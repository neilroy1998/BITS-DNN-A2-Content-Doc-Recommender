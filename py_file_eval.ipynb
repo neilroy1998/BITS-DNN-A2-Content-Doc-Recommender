{
 "cells": [
  {
   "metadata": {
    "ExecuteTime": {
     "end_time": "2025-03-07T13:57:43.694801Z",
     "start_time": "2025-03-07T13:57:43.666217Z"
    }
   },
   "cell_type": "code",
   "source": [
    "import ast\n",
    "\n",
    "def get_function_calls_and_defs(filename):\n",
    "    with open(filename, \"r\") as f:\n",
    "        tree = ast.parse(f.read())\n",
    "\n",
    "    # Get function definitions\n",
    "    defined_functions = {node.name for node in ast.walk(tree) if isinstance(node, ast.FunctionDef)}\n",
    "\n",
    "    # Get function calls\n",
    "    called_functions = {node.func.id for node in ast.walk(tree) if isinstance(node, ast.Call) and isinstance(node.func, ast.Name)}\n",
    "\n",
    "    # Find unused functions\n",
    "    unused_functions = defined_functions - called_functions\n",
    "\n",
    "    return defined_functions, called_functions, unused_functions\n",
    "\n",
    "# Run analysis on converted notebook script\n",
    "defined, called, unused = get_function_calls_and_defs(\"solution 3.py\")\n",
    "\n",
    "print(\"Defined functions:\", defined)\n",
    "print(\"Called functions:\", called)\n",
    "print(\"Unused functions (safe to remove):\", unused)\n"
   ],
   "id": "c30a2354fb8bc1a",
   "outputs": [
    {
     "name": "stdout",
     "output_type": "stream",
     "text": [
      "Defined functions: {'extract_text_from_file', 'evaluate_user_recommendations', 'create_user_profiles', 'simulate_user_recommendations', 'calculate_profile_similarity', 'calculate_term_frequencies', 'create_diverse_test_queries', 'determine_relevance', 'preprocess_text', 'preprocess_documents', 'search', 'calculate_precision_recall_at_k', 'calculate_precision_recall_curve', 'calculate_average_precision', 'personalized_ranking', 'load_documents', 'calculate_r_precision', 'comprehensive_evaluation', 'build_inverted_index', 'visualize_evaluation_results', 'generate_relevance_judgments', 'calculate_11point_interpolated_precision', 'main_improved', 'calculate_tfidf', 'display_inverted_index'}\n",
      "Called functions: {'extract_text_from_file', 'evaluate_user_recommendations', 'create_user_profiles', 'simulate_user_recommendations', 'calculate_profile_similarity', 'PorterStemmer', 'calculate_term_frequencies', 'create_diverse_test_queries', 'determine_relevance', 'preprocess_text', 'preprocess_documents', 'search', 'enumerate', 'len', 'calculate_precision_recall_at_k', 'set', 'word_tokenize', 'calculate_precision_recall_curve', 'calculate_average_precision', 'print', 'list', 'min', 'Counter', 'sorted', 'personalized_ranking', 'dict', 'load_documents', 'comprehensive_evaluation', 'calculate_r_precision', 'build_inverted_index', 'BeautifulSoup', 'max', 'visualize_evaluation_results', 'generate_relevance_judgments', 'main_improved', 'sum', 'calculate_11point_interpolated_precision', 'calculate_tfidf', 'zip', 'get_close_matches', 'str', 'open', 'defaultdict', 'display_inverted_index'}\n",
      "Unused functions (safe to remove): set()\n"
     ]
    }
   ],
   "execution_count": 2
  }
 ],
 "metadata": {
  "kernelspec": {
   "display_name": "Python 3",
   "language": "python",
   "name": "python3"
  },
  "language_info": {
   "codemirror_mode": {
    "name": "ipython",
    "version": 2
   },
   "file_extension": ".py",
   "mimetype": "text/x-python",
   "name": "python",
   "nbconvert_exporter": "python",
   "pygments_lexer": "ipython2",
   "version": "2.7.6"
  }
 },
 "nbformat": 4,
 "nbformat_minor": 5
}
