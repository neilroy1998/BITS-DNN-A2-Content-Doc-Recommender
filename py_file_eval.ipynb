{
 "cells": [
  {
   "cell_type": "code",
   "execution_count": 2,
   "id": "c30a2354fb8bc1a",
   "metadata": {
    "ExecuteTime": {
     "end_time": "2025-03-07T13:57:43.694801Z",
     "start_time": "2025-03-07T13:57:43.666217Z"
    }
   },
   "outputs": [
    {
     "name": "stdout",
     "output_type": "stream",
     "text": [
      "Defined functions: {'extract_text_from_file', 'evaluate_user_recommendations', 'create_user_profiles', 'simulate_user_recommendations', 'calculate_profile_similarity', 'calculate_term_frequencies', 'create_diverse_test_queries', 'determine_relevance', 'preprocess_text', 'preprocess_documents', 'search', 'calculate_precision_recall_at_k', 'calculate_precision_recall_curve', 'calculate_average_precision', 'personalized_ranking', 'load_documents', 'calculate_r_precision', 'comprehensive_evaluation', 'build_inverted_index', 'visualize_evaluation_results', 'generate_relevance_judgments', 'calculate_11point_interpolated_precision', 'main_improved', 'calculate_tfidf', 'display_inverted_index'}\n",
      "Called functions: {'extract_text_from_file', 'evaluate_user_recommendations', 'create_user_profiles', 'simulate_user_recommendations', 'calculate_profile_similarity', 'PorterStemmer', 'calculate_term_frequencies', 'create_diverse_test_queries', 'determine_relevance', 'preprocess_text', 'preprocess_documents', 'search', 'enumerate', 'len', 'calculate_precision_recall_at_k', 'set', 'word_tokenize', 'calculate_precision_recall_curve', 'calculate_average_precision', 'print', 'list', 'min', 'Counter', 'sorted', 'personalized_ranking', 'dict', 'load_documents', 'comprehensive_evaluation', 'calculate_r_precision', 'build_inverted_index', 'BeautifulSoup', 'max', 'visualize_evaluation_results', 'generate_relevance_judgments', 'main_improved', 'sum', 'calculate_11point_interpolated_precision', 'calculate_tfidf', 'zip', 'get_close_matches', 'str', 'open', 'defaultdict', 'display_inverted_index'}\n",
      "Unused functions (safe to remove): set()\n"
     ]
    }
   ],
   "source": [
    "import ast\n",
    "\n",
    "def get_function_calls_and_defs(filename):\n",
    "    with open(filename, \"r\") as f:\n",
    "        tree = ast.parse(f.read())\n",
    "\n",
    "    # Get function definitions\n",
    "    defined_functions = {node.name for node in ast.walk(tree) if isinstance(node, ast.FunctionDef)}\n",
    "\n",
    "    # Get function calls\n",
    "    called_functions = {node.func.id for node in ast.walk(tree) if isinstance(node, ast.Call) and isinstance(node.func, ast.Name)}\n",
    "\n",
    "    # Find unused functions\n",
    "    unused_functions = defined_functions - called_functions\n",
    "\n",
    "    return defined_functions, called_functions, unused_functions\n",
    "\n",
    "# Run analysis on converted notebook script\n",
    "defined, called, unused = get_function_calls_and_defs(\"solution 3.py\")\n",
    "\n",
    "print(\"Defined functions:\", defined)\n",
    "print(\"Called functions:\", called)\n",
    "print(\"Unused functions (safe to remove):\", unused)\n"
   ]
  },
  {
   "cell_type": "code",
   "execution_count": 1,
   "id": "3ee53bb0",
   "metadata": {},
   "outputs": [
    {
     "name": "stdout",
     "output_type": "stream",
     "text": [
      "Markdown file 'bbc_articles_urls.md' generated successfully!\n"
     ]
    }
   ],
   "source": [
    "import os\n",
    "from bs4 import BeautifulSoup\n",
    "\n",
    "# Base directory where HTML files are stored\n",
    "base_dir = \"bbc_articles_html_backup\"\n",
    "\n",
    "# Output list for markdown content\n",
    "md_output = []\n",
    "\n",
    "# Traverse each topic folder\n",
    "for topic in os.listdir(base_dir):\n",
    "    topic_path = os.path.join(base_dir, topic)\n",
    "\n",
    "    # Ensure it's a directory\n",
    "    if os.path.isdir(topic_path):\n",
    "        md_output.append(f\"### {topic.capitalize()}\")  # Topic as Markdown header\n",
    "\n",
    "        # Process each HTML file in the topic directory\n",
    "        for file_name in sorted(os.listdir(topic_path)):\n",
    "            if file_name.endswith(\".html\"):\n",
    "                file_path = os.path.join(topic_path, file_name)\n",
    "\n",
    "                with open(file_path, \"r\", encoding=\"utf-8\") as file:\n",
    "                    soup = BeautifulSoup(file, \"html.parser\")\n",
    "\n",
    "                    # Extract the title\n",
    "                    title_tag = soup.find(\"title\")\n",
    "                    title = title_tag.text.strip() if title_tag else \"Untitled\"\n",
    "\n",
    "                    # Extract the URL from meta tag\n",
    "                    meta_tag = soup.find(\"meta\", attrs={\"name\": \"apple-itunes-app\"})\n",
    "                    content = meta_tag.get(\"content\", \"\") if meta_tag else \"\"\n",
    "                    url = content.split(\"app-argument=\")[-1] if \"app-argument=\" in content else \"No URL\"\n",
    "\n",
    "                    # Append formatted markdown output\n",
    "                    md_output.append(f\"- **[{title}]({url})**\")\n",
    "\n",
    "# Save the output as a Markdown file\n",
    "output_file = \"bbc_articles_urls.md\"\n",
    "with open(output_file, \"w\", encoding=\"utf-8\") as md_file:\n",
    "    md_file.write(\"\\n\".join(md_output))\n",
    "\n",
    "print(f\"Markdown file '{output_file}' generated successfully!\")\n"
   ]
  },
  {
   "cell_type": "code",
   "execution_count": 4,
   "id": "b26cf66a",
   "metadata": {},
   "outputs": [
    {
     "name": "stdout",
     "output_type": "stream",
     "text": [
      "Converted markdown saved to bbc_articles_numbered.md\n"
     ]
    }
   ],
   "source": [
    "import re\n",
    "\n",
    "def convert_bullets_to_numbered(md_file_path, output_file_path):\n",
    "    \"\"\"\n",
    "    Converts a bullet-point markdown list to a numbered markdown list.\n",
    "\n",
    "    Args:\n",
    "        md_file_path (str): Path to the input markdown file with bullets.\n",
    "        output_file_path (str): Path to save the numbered markdown file.\n",
    "    \"\"\"\n",
    "    with open(md_file_path, \"r\", encoding=\"utf-8\") as file:\n",
    "        lines = file.readlines()\n",
    "\n",
    "    topic_count = 0  # Main section counter\n",
    "    sub_count = 1  # Sub-item counter\n",
    "    converted_lines = []\n",
    "\n",
    "    for line in lines:\n",
    "        # If it's a topic header (### Topic)\n",
    "        if line.startswith(\"### \"):\n",
    "            topic_count += 1\n",
    "            sub_count = 1  # Reset sub-item numbering\n",
    "            converted_lines.append(f\"{topic_count}. {line[4:].strip()}\\n\\n\")  # Convert topic to numbered format\n",
    "\n",
    "        # If it's a bullet point (starts with \"- \")\n",
    "        elif re.match(r\"^\\s*- \", line):\n",
    "            converted_lines.append(f\"   {topic_count}.{sub_count} {line.strip()[2:]}\\n\\n\")  # Convert sub-item\n",
    "            sub_count += 1  # Increment numbering\n",
    "\n",
    "        else:\n",
    "            converted_lines.append(line)  # Keep other lines unchanged\n",
    "\n",
    "    # Save the converted Markdown file\n",
    "    with open(output_file_path, \"w\", encoding=\"utf-8\") as file:\n",
    "        file.writelines(converted_lines)\n",
    "\n",
    "    print(f\"Converted markdown saved to {output_file_path}\")\n",
    "\n",
    "\n",
    "# Example Usage\n",
    "convert_bullets_to_numbered(\"bbc_articles_urls.md\", \"bbc_articles_numbered.md\")\n"
   ]
  }
 ],
 "metadata": {
  "kernelspec": {
   "display_name": "content_doc_recommender_venv",
   "language": "python",
   "name": "python3"
  },
  "language_info": {
   "codemirror_mode": {
    "name": "ipython",
    "version": 3
   },
   "file_extension": ".py",
   "mimetype": "text/x-python",
   "name": "python",
   "nbconvert_exporter": "python",
   "pygments_lexer": "ipython3",
   "version": "3.13.2"
  }
 },
 "nbformat": 4,
 "nbformat_minor": 5
}
