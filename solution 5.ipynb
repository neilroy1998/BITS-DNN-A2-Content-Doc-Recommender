{
 "cells": [
  {
   "cell_type": "markdown",
   "metadata": {},
   "source": [
    "### Group Details"
   ]
  },
  {
   "cell_type": "markdown",
   "metadata": {},
   "source": [
    "Group ID - 59\n",
    "\n",
    "| Sl. No | Name  | BITS ID  | Contribution  |\n",
    "|--------|-------|---------|---------------|\n",
    "| 1      |   Rajit Roy    |    2023ac05605     |      100%         |\n",
    "| 2      |       |         |     100%          |\n",
    "| 3      |       |         |     100%          |\n",
    "| 4      |       |         |     100%          |\n",
    "| 5      |       |         |     100%          |"
   ]
  },
  {
   "cell_type": "markdown",
   "metadata": {},
   "source": [
    "___"
   ]
  },
  {
   "cell_type": "markdown",
   "metadata": {},
   "source": [
    "### Assignment 2 - Problem Statement 10\n",
    "\n",
    "##### Question: Content Based Recommender System"
   ]
  },
  {
   "cell_type": "markdown",
   "metadata": {},
   "source": [
    "___"
   ]
  },
  {
   "cell_type": "markdown",
   "metadata": {},
   "source": [
    "### Data Used as Source"
   ]
  },
  {
   "cell_type": "markdown",
   "metadata": {},
   "source": [
    "Data was picked from the BBC News Site.\n",
    "Five Diverse topics were selected with each having multiple articles (8-16) in them.\n",
    "\n",
    "Topics Were:\n",
    "\n",
    "| Topic       | Number of Articles |\n",
    "|------------|-------------------|\n",
    "| 🖼️ **Arts**         | 10  |\n",
    "| 💼 **Business**     | 15  |\n",
    "| 🚀 **Innovation**   | 11  |\n",
    "| 🖥️ **Technology**   | 17  |\n",
    "| 🌍 **Travel**       | 7   |\n",
    "| **Total**    | **60**\n",
    "\n",
    "\n",
    "\n",
    "These were PDFs. \n",
    "For a full list of articles, refer to appendix below (At the end, below the Summary)\n",
    "\n",
    "Public Link - https://drive.google.com/drive/folders/1w-0v7dazqmaeCaucZDrJgjm4m74iGyVS?usp=sharing"
   ]
  },
  {
   "cell_type": "markdown",
   "metadata": {},
   "source": [
    "---"
   ]
  },
  {
   "cell_type": "markdown",
   "metadata": {},
   "source": [
    "### Methodology: Step-by-Step Implementation \n",
    "\n",
    "##### 1. Document Processing  \n",
    "- Extracted text from **60 BBC news articles** (Innovation, Arts, Technology, Business, Travel).  \n",
    "- Applied **tokenization, stopword removal, stemming, and normalization**.  \n",
    "\n",
    "##### 2. Indexing and TF-IDF Computation  \n",
    "- Built an **inverted index** mapping terms to documents.  \n",
    "- Computed **TF-IDF weights** for term significance and length normalization.  \n",
    "\n",
    "##### 3. Query Evaluation and Similarity Computation  \n",
    "- Designed **diverse test queries** mapped to relevant categories.  \n",
    "- Ranked documents using **Cosine Similarity** between **TF-IDF vectors**.  \n",
    "\n",
    "##### 4. Precision-Recall Evaluation  \n",
    "- Measured **Precision, Recall, F1-Score, MAP, and R-Precision**.  \n",
    "- Generated **Precision-Recall curves, Precision@k, and Interpolated Precision curves**.  \n",
    "\n",
    "##### 5. Personalized Recommendations  \n",
    "- Created **user profiles** with **interest-based queries**.  \n",
    "- Retrieved documents using **TF-IDF similarity with profile-based reranking**.  \n",
    "\n",
    "##### 6. Evaluation of Personalized Recommendations  \n",
    "- Measured **category precision** and **term-based relevance matching**.  "
   ]
  },
  {
   "cell_type": "markdown",
   "metadata": {},
   "source": [
    "___"
   ]
  },
  {
   "cell_type": "markdown",
   "metadata": {},
   "source": [
    "### 1. Data Loading and Preprocessing"
   ]
  },
  {
   "cell_type": "markdown",
   "metadata": {},
   "source": [
    "##### Imports"
   ]
  },
  {
   "cell_type": "code",
   "metadata": {
    "ExecuteTime": {
     "end_time": "2025-03-08T07:26:33.839417Z",
     "start_time": "2025-03-08T07:26:33.837665Z"
    }
   },
   "source": [
    "# %pip install PyPDF2 beautifulsoup4 nltk scikit-learn matplotlib seaborn"
   ],
   "outputs": [],
   "execution_count": 2
  },
  {
   "cell_type": "code",
   "metadata": {
    "ExecuteTime": {
     "end_time": "2025-03-08T07:26:35.367150Z",
     "start_time": "2025-03-08T07:26:33.857069Z"
    }
   },
   "source": [
    "import math\n",
    "import os\n",
    "import re\n",
    "from collections import Counter\n",
    "from difflib import get_close_matches\n",
    "import matplotlib.pyplot as plt\n",
    "import numpy as np\n",
    "from collections import defaultdict\n",
    "import nltk\n",
    "from bs4 import BeautifulSoup\n",
    "from nltk.corpus import stopwords\n",
    "from nltk.stem import PorterStemmer\n",
    "from nltk.tokenize import word_tokenize\n",
    "import logging\n",
    "import PyPDF2\n",
    "\n",
    "# Download required NLTK data\n",
    "nltk.download('punkt')\n",
    "nltk.download('stopwords')\n",
    "nltk.download('punkt_tab')"
   ],
   "outputs": [
    {
     "name": "stderr",
     "output_type": "stream",
     "text": [
      "[nltk_data] Downloading package punkt to /Users/rajitroy/nltk_data...\n",
      "[nltk_data]   Package punkt is already up-to-date!\n",
      "[nltk_data] Downloading package stopwords to\n",
      "[nltk_data]     /Users/rajitroy/nltk_data...\n",
      "[nltk_data]   Package stopwords is already up-to-date!\n",
      "[nltk_data] Downloading package punkt_tab to\n",
      "[nltk_data]     /Users/rajitroy/nltk_data...\n",
      "[nltk_data]   Package punkt_tab is already up-to-date!\n"
     ]
    },
    {
     "data": {
      "text/plain": [
       "True"
      ]
     },
     "execution_count": 3,
     "metadata": {},
     "output_type": "execute_result"
    }
   ],
   "execution_count": 3
  },
  {
   "cell_type": "markdown",
   "metadata": {},
   "source": [
    "##### Loading Documents"
   ]
  },
  {
   "cell_type": "code",
   "metadata": {
    "ExecuteTime": {
     "end_time": "2025-03-08T07:26:35.379473Z",
     "start_time": "2025-03-08T07:26:35.375984Z"
    }
   },
   "source": [
    "def extract_text_from_file(file_path):\n",
    "    \"\"\"\n",
    "    Extract text from HTML, PDF, or TXT files.\n",
    "\n",
    "    Args:\n",
    "        file_path (str): Path to the file.\n",
    "\n",
    "    Returns:\n",
    "        str: Cleaned and extracted text content.\n",
    "    \"\"\"\n",
    "    print(\"Extracting text from file:\", file_path)\n",
    "    try:\n",
    "        # Check file type and handle accordingly\n",
    "        if file_path.endswith('.html'):\n",
    "            # Read HTML content\n",
    "            with open(file_path, 'r', encoding='utf-8') as file:\n",
    "                content = file.read()\n",
    "            # Parse HTML to extract clean text\n",
    "            soup = BeautifulSoup(content, 'html.parser')\n",
    "            text = soup.get_text(separator=' ', strip=True)\n",
    "\n",
    "        elif file_path.endswith('.pdf'):\n",
    "            # PDF parsing using PyPDF2\n",
    "\n",
    "            with open(file_path, 'rb') as file:\n",
    "                pdf_reader = PyPDF2.PdfReader(file)\n",
    "                text = \"\"\n",
    "                # Extract text page by page\n",
    "                for page in pdf_reader.pages:\n",
    "                    page_text = page.extract_text()\n",
    "                    if page_text:\n",
    "                        text += page_text + \" \"\n",
    "\n",
    "        else:  # For TXT files\n",
    "            # Directly read text file\n",
    "            with open(file_path, 'r', encoding='utf-8', errors='ignore') as file:\n",
    "                text = file.read()\n",
    "\n",
    "        # Remove extra whitespace and clean text\n",
    "        text = re.sub(r'\\s+', ' ', text).strip()\n",
    "\n",
    "        return text\n",
    "\n",
    "    except Exception as e:\n",
    "        # Print error message clearly\n",
    "        print(f\"Error extracting text from {file_path}: {e}\")\n",
    "        return \"\""
   ],
   "outputs": [],
   "execution_count": 4
  },
  {
   "cell_type": "code",
   "metadata": {
    "ExecuteTime": {
     "end_time": "2025-03-08T07:26:35.407957Z",
     "start_time": "2025-03-08T07:26:35.404820Z"
    }
   },
   "source": [
    "def load_documents(base_dir):\n",
    "    \"\"\"\n",
    "    Load all documents from the specified directory structure\n",
    "\n",
    "    Args:\n",
    "        base_dir (str): Base directory containing subdirectories for categories\n",
    "\n",
    "    Returns:\n",
    "        dict: Dictionary with document IDs as keys and document info as values\n",
    "    \"\"\"\n",
    "    documents = {}\n",
    "    doc_id = 0\n",
    "\n",
    "    # Create dictionary to store document paths\n",
    "    doc_paths = {}\n",
    "\n",
    "    # Walk through the directory structure\n",
    "    for root, _, files in os.walk(base_dir):\n",
    "        category = os.path.basename(root)\n",
    "\n",
    "        for file in files:\n",
    "            # Only process HTML, PDF, and text files\n",
    "            if file.endswith(('.html', '.txt', '.csv', '.pdf')):\n",
    "                file_path = os.path.join(root, file)\n",
    "\n",
    "                # Extract text using our universal extractor for all file types\n",
    "                text = extract_text_from_file(file_path)\n",
    "\n",
    "                # Skip if no text was extracted\n",
    "                if not text:\n",
    "                    continue\n",
    "\n",
    "                # Store document info\n",
    "                doc_name = f\"{category}/{file}\"\n",
    "                documents[doc_id] = {\n",
    "                    'id': doc_id,\n",
    "                    'name': doc_name,\n",
    "                    'category': category,\n",
    "                    'path': file_path,\n",
    "                    'text': text,\n",
    "                    'tokens': None,  # Will be populated during preprocessing\n",
    "                    'term_freq': None,  # Will be populated during TF-IDF calculation\n",
    "                }\n",
    "                doc_paths[doc_id] = file_path\n",
    "                doc_id += 1\n",
    "\n",
    "    print(f\"Loaded {len(documents)} documents from {base_dir}\")\n",
    "    return documents, doc_paths"
   ],
   "outputs": [],
   "execution_count": 5
  },
  {
   "cell_type": "markdown",
   "metadata": {},
   "source": [
    "##### Text Preprocessing"
   ]
  },
  {
   "cell_type": "code",
   "metadata": {
    "ExecuteTime": {
     "end_time": "2025-03-08T07:26:35.422944Z",
     "start_time": "2025-03-08T07:26:35.420174Z"
    }
   },
   "source": [
    "def preprocess_text(text):\n",
    "    \"\"\"\n",
    "    Preprocess text: tokenize, remove stopwords, punctuation, and stem\n",
    "\n",
    "    Args:\n",
    "        text (str): Input text\n",
    "\n",
    "    Returns:\n",
    "        list: List of preprocessed tokens\n",
    "    \"\"\"\n",
    "    # Lowercase\n",
    "    text = text.lower()\n",
    "\n",
    "    # Tokenize\n",
    "    tokens = word_tokenize(text)\n",
    "\n",
    "    # Remove punctuation and non-alphabetic tokens\n",
    "    tokens = [token for token in tokens if token.isalpha()]\n",
    "\n",
    "    # Remove stopwords\n",
    "    stop_words = set(stopwords.words('english'))\n",
    "    tokens = [token for token in tokens if token not in stop_words]\n",
    "\n",
    "    # Stemming\n",
    "    stemmer = PorterStemmer()\n",
    "    tokens = [stemmer.stem(token) for token in tokens]\n",
    "\n",
    "    return tokens\n"
   ],
   "outputs": [],
   "execution_count": 6
  },
  {
   "cell_type": "code",
   "metadata": {
    "ExecuteTime": {
     "end_time": "2025-03-08T07:26:35.427942Z",
     "start_time": "2025-03-08T07:26:35.426161Z"
    }
   },
   "source": [
    "def preprocess_documents(documents):\n",
    "    \"\"\"\n",
    "    Preprocess all documents in the collection\n",
    "\n",
    "    Args:\n",
    "        documents (dict): Dictionary of documents\n",
    "\n",
    "    Returns:\n",
    "        dict: Updated dictionary with preprocessed tokens\n",
    "    \"\"\"\n",
    "    for doc_id, doc in documents.items():\n",
    "        doc['tokens'] = preprocess_text(doc['text'])\n",
    "\n",
    "    return documents\n"
   ],
   "outputs": [],
   "execution_count": 7
  },
  {
   "cell_type": "markdown",
   "metadata": {},
   "source": [
    "---"
   ]
  },
  {
   "cell_type": "markdown",
   "metadata": {},
   "source": [
    "### 2. Indexing and Representation"
   ]
  },
  {
   "cell_type": "markdown",
   "metadata": {},
   "source": [
    "##### Building the Inverted Index"
   ]
  },
  {
   "cell_type": "code",
   "metadata": {
    "ExecuteTime": {
     "end_time": "2025-03-08T07:26:35.435354Z",
     "start_time": "2025-03-08T07:26:35.432837Z"
    }
   },
   "source": [
    "def build_inverted_index(documents):\n",
    "    \"\"\"\n",
    "    Build an inverted index mapping terms to documents\n",
    "\n",
    "    Args:\n",
    "        documents (dict): Dictionary of documents\n",
    "\n",
    "    Returns:\n",
    "        dict: Inverted index mapping terms to document IDs\n",
    "    \"\"\"\n",
    "    inverted_index = defaultdict(list)\n",
    "\n",
    "    for doc_id, doc in documents.items():\n",
    "        # Get unique terms in the document\n",
    "        unique_terms = set(doc['tokens'])\n",
    "\n",
    "        # Add document to the posting list of each term\n",
    "        for term in unique_terms:\n",
    "            inverted_index[term].append(doc_id)\n",
    "\n",
    "    return dict(inverted_index)"
   ],
   "outputs": [],
   "execution_count": 8
  },
  {
   "cell_type": "code",
   "metadata": {
    "ExecuteTime": {
     "end_time": "2025-03-08T07:26:35.443504Z",
     "start_time": "2025-03-08T07:26:35.440688Z"
    }
   },
   "source": [
    "def display_inverted_index(inverted_index, top_n=10):\n",
    "    \"\"\"\n",
    "    Display the inverted index (sorted)\n",
    "\n",
    "    Args:\n",
    "        inverted_index (dict): Inverted index mapping terms to document IDs\n",
    "        top_n (int): Number of terms to display\n",
    "\n",
    "    Returns:\n",
    "        None\n",
    "    \"\"\"\n",
    "    # Sort terms by their frequency (number of documents)\n",
    "    sorted_terms = sorted(inverted_index.items(),\n",
    "                          key=lambda x: len(x[1]),\n",
    "                          reverse=True)\n",
    "\n",
    "    print(f\"Top {top_n} terms in the inverted index:\")\n",
    "    print(\"=\" * 50)\n",
    "    print(\"{:<20} {:<10} {:<20}\".format(\"Term\", \"Doc Count\", \"Documents\"))\n",
    "    print(\"-\" * 50)\n",
    "\n",
    "    for term, doc_ids in sorted_terms[:top_n]:\n",
    "        print(\"{:<20} {:<10} {:<20}\".format(\n",
    "            term, len(doc_ids), str(doc_ids[:5]) + \"...\" if len(doc_ids) > 5 else str(doc_ids)\n",
    "        ))"
   ],
   "outputs": [],
   "execution_count": 9
  },
  {
   "cell_type": "markdown",
   "metadata": {},
   "source": [
    "##### Computing TF-IDF Scores"
   ]
  },
  {
   "cell_type": "code",
   "metadata": {
    "ExecuteTime": {
     "end_time": "2025-03-08T07:26:35.455484Z",
     "start_time": "2025-03-08T07:26:35.453220Z"
    }
   },
   "source": [
    "def calculate_term_frequencies(documents):\n",
    "    \"\"\"\n",
    "    Calculate term frequencies for each document\n",
    "\n",
    "    Args:\n",
    "        documents (dict): Dictionary of documents\n",
    "\n",
    "    Returns:\n",
    "        dict: Updated dictionary with term frequencies\n",
    "    \"\"\"\n",
    "    for doc_id, doc in documents.items():\n",
    "        # Count term frequencies\n",
    "        term_freq = Counter(doc['tokens'])\n",
    "        doc['term_freq'] = term_freq\n",
    "\n",
    "    return documents"
   ],
   "outputs": [],
   "execution_count": 10
  },
  {
   "cell_type": "code",
   "metadata": {
    "ExecuteTime": {
     "end_time": "2025-03-08T07:26:35.461504Z",
     "start_time": "2025-03-08T07:26:35.458656Z"
    }
   },
   "source": [
    "def calculate_tfidf(documents, inverted_index):\n",
    "    \"\"\"\n",
    "    Calculate TF-IDF scores for all terms in all documents\n",
    "\n",
    "    Args:\n",
    "        documents (dict): Dictionary of documents\n",
    "        inverted_index (dict): Inverted index mapping terms to document IDs\n",
    "\n",
    "    Returns:\n",
    "        dict: TF-IDF scores for all terms in all documents\n",
    "        dict: Document vectors for similarity calculations\n",
    "    \"\"\"\n",
    "    N = len(documents)  # Total number of documents\n",
    "\n",
    "    # Calculate IDF for each term\n",
    "    idf = {}\n",
    "    for term, doc_ids in inverted_index.items():\n",
    "        idf[term] = math.log10(N / len(doc_ids))\n",
    "\n",
    "    # Calculate TF-IDF for each term in each document\n",
    "    tfidf = {}\n",
    "    doc_vectors = {}\n",
    "\n",
    "    for doc_id, doc in documents.items():\n",
    "        tfidf[doc_id] = {}\n",
    "        vector = {}\n",
    "\n",
    "        # Get document length (total number of terms)\n",
    "        doc_length = len(doc['tokens'])\n",
    "\n",
    "        # Calculate TF-IDF for each term in the document\n",
    "        for term, freq in doc['term_freq'].items():\n",
    "            # Normalized TF (term frequency / document length)\n",
    "            normalized_tf = freq / doc_length\n",
    "\n",
    "            # TF-IDF score\n",
    "            tfidf[doc_id][term] = normalized_tf * idf.get(term, 0)\n",
    "            vector[term] = tfidf[doc_id][term]\n",
    "\n",
    "        # Store the document vector\n",
    "        doc_vectors[doc_id] = vector\n",
    "\n",
    "    return tfidf, doc_vectors"
   ],
   "outputs": [],
   "execution_count": 11
  },
  {
   "cell_type": "markdown",
   "metadata": {},
   "source": [
    "___"
   ]
  },
  {
   "cell_type": "markdown",
   "metadata": {},
   "source": [
    "### 3. Similarity Calculation"
   ]
  },
  {
   "cell_type": "markdown",
   "metadata": {},
   "source": [
    "##### Computing Profile Similarity"
   ]
  },
  {
   "cell_type": "code",
   "metadata": {
    "ExecuteTime": {
     "end_time": "2025-03-08T07:26:35.474855Z",
     "start_time": "2025-03-08T07:26:35.471605Z"
    }
   },
   "source": [
    "def calculate_profile_similarity(user_id, doc_id, documents, user_profiles):\n",
    "    \"\"\"\n",
    "    Calculate similarity between a user profile and a document\n",
    "\n",
    "    Args:\n",
    "        user_id (str): User ID\n",
    "        doc_id (int): Document ID\n",
    "        documents (dict): Dictionary of documents\n",
    "        user_profiles (dict): Dictionary of user profiles\n",
    "\n",
    "    Returns:\n",
    "        float: Similarity score between user profile and document\n",
    "    \"\"\"\n",
    "    # If user_id is not provided or invalid, return neutral score\n",
    "    if user_id not in user_profiles:\n",
    "        return 0.5\n",
    "\n",
    "    user_profile = user_profiles[user_id]\n",
    "    document = documents[doc_id]\n",
    "    interest_vector = user_profile['interest_vector']\n",
    "\n",
    "    # If interest vector is empty, return neutral score\n",
    "    if not interest_vector:\n",
    "        return 0.5\n",
    "\n",
    "    # Calculate dot product between interest vector and document tokens\n",
    "    dot_product = 0\n",
    "    for term, weight in interest_vector.items():\n",
    "        if term in document['tokens']:\n",
    "            dot_product += weight * 1  # Simplified: just check if term exists\n",
    "\n",
    "    # Normalize by document length for fairness\n",
    "    doc_length = len(document['tokens'])\n",
    "    if doc_length > 0:\n",
    "        similarity = dot_product / math.sqrt(doc_length)\n",
    "    else:\n",
    "        similarity = 0\n",
    "\n",
    "    return similarity"
   ],
   "outputs": [],
   "execution_count": 12
  },
  {
   "cell_type": "markdown",
   "metadata": {},
   "source": [
    "##### Searching and Ranking Content (With Cosine)"
   ]
  },
  {
   "cell_type": "code",
   "metadata": {
    "ExecuteTime": {
     "end_time": "2025-03-08T07:26:35.484419Z",
     "start_time": "2025-03-08T07:26:35.480168Z"
    }
   },
   "source": [
    "def search(query, documents, inverted_index, doc_vectors, user_id=None, user_profiles=None, tolerance=0.8):\n",
    "    \"\"\"\n",
    "    Search for documents matching a query, with optional personalization\n",
    "\n",
    "    Args:\n",
    "        query (str): Search query\n",
    "        documents (dict): Dictionary of documents\n",
    "        inverted_index (dict): Inverted index mapping terms to document IDs\n",
    "        doc_vectors (dict): Document vectors for similarity calculations\n",
    "        user_id (str, optional): User ID for personalized results\n",
    "        user_profiles (dict, optional): Dictionary of user profiles\n",
    "        tolerance (float): Tolerance threshold for fuzzy matching\n",
    "\n",
    "    Returns:\n",
    "        list: Ranked list of matching documents\n",
    "    \"\"\"\n",
    "    # Preprocess the query\n",
    "    query_tokens = preprocess_text(query)\n",
    "\n",
    "    # If no valid tokens after preprocessing, return empty result\n",
    "    if not query_tokens:\n",
    "        return []\n",
    "\n",
    "    # Find matching documents for each query term\n",
    "    matching_docs = set()\n",
    "\n",
    "    for query_term in query_tokens:\n",
    "        # Try exact matching first\n",
    "        if query_term in inverted_index:\n",
    "            matching_docs.update(inverted_index[query_term])\n",
    "        else:\n",
    "            # Try fuzzy matching if exact match not found\n",
    "            all_terms = list(inverted_index.keys())\n",
    "            close_matches = get_close_matches(query_term, all_terms, n=3, cutoff=tolerance)\n",
    "\n",
    "            for match in close_matches:\n",
    "                matching_docs.update(inverted_index[match])\n",
    "\n",
    "    # If no matching documents found, return empty result\n",
    "    if not matching_docs:\n",
    "        return []\n",
    "\n",
    "    # Calculate query vector\n",
    "    query_vector = {}\n",
    "    for term in query_tokens:\n",
    "        # Use TF-IDF weight if the term is in the corpus, otherwise give it a default weight\n",
    "        query_vector[term] = query_vector.get(term, 0) + 1\n",
    "\n",
    "    # Normalize query vector\n",
    "    query_length = len(query_tokens)\n",
    "    for term in query_vector:\n",
    "        query_vector[term] /= query_length\n",
    "\n",
    "    # Calculate similarity to query for each matching document\n",
    "    similarities = []\n",
    "\n",
    "    for doc_id in matching_docs:\n",
    "        doc_vector = doc_vectors[doc_id]\n",
    "\n",
    "        # Calculate dot product\n",
    "        dot_product = 0\n",
    "        for term, weight in query_vector.items():\n",
    "            if term in doc_vector:\n",
    "                dot_product += weight * doc_vector[term]\n",
    "\n",
    "        # Calculate magnitudes\n",
    "        query_mag = math.sqrt(sum(w ** 2 for w in query_vector.values()))\n",
    "        doc_mag = math.sqrt(sum(w ** 2 for w in doc_vector.values()))\n",
    "\n",
    "        # Calculate cosine similarity\n",
    "        if query_mag * doc_mag == 0:\n",
    "            similarity = 0\n",
    "        else:\n",
    "            similarity = dot_product / (query_mag * doc_mag)\n",
    "\n",
    "        similarities.append((doc_id, similarity))\n",
    "\n",
    "    # Sort by similarity score (descending)\n",
    "    ranked_results = sorted(similarities, key=lambda x: x[1], reverse=True)\n",
    "\n",
    "    # Apply personalized ranking if user_id is provided\n",
    "    if user_id and user_profiles and user_id in user_profiles:\n",
    "        ranked_results = personalized_ranking(ranked_results, user_id, documents, user_profiles)\n",
    "\n",
    "    return ranked_results"
   ],
   "outputs": [],
   "execution_count": 13
  },
  {
   "cell_type": "markdown",
   "metadata": {},
   "source": [
    "___"
   ]
  },
  {
   "cell_type": "markdown",
   "metadata": {},
   "source": [
    "### 4. Content-Based Recommendation"
   ]
  },
  {
   "cell_type": "markdown",
   "metadata": {},
   "source": [
    "##### Ranking and Personalization"
   ]
  },
  {
   "cell_type": "code",
   "metadata": {
    "ExecuteTime": {
     "end_time": "2025-03-08T07:26:35.493441Z",
     "start_time": "2025-03-08T07:26:35.490134Z"
    }
   },
   "source": [
    "def personalized_ranking(results, user_id, documents, user_profiles):\n",
    "    \"\"\"\n",
    "    Re-rank search results based on user profile\n",
    "\n",
    "    Args:\n",
    "        results (list): Original ranked list of (doc_id, similarity) tuples\n",
    "        user_id (str): User ID\n",
    "        documents (dict): Dictionary of documents\n",
    "        user_profiles (dict): Dictionary of user profiles\n",
    "\n",
    "    Returns:\n",
    "        list: Re-ranked list of (doc_id, combined_score) tuples\n",
    "    \"\"\"\n",
    "    # If no user_id provided or invalid, return original ranking\n",
    "    if not user_id or user_id not in user_profiles:\n",
    "        return results\n",
    "\n",
    "    # Calculate combined scores (query relevance + profile similarity)\n",
    "    combined_scores = []\n",
    "\n",
    "    for doc_id, query_similarity in results:\n",
    "        # Calculate profile similarity\n",
    "        profile_similarity = calculate_profile_similarity(user_id, doc_id, documents, user_profiles)\n",
    "\n",
    "        # Combine scores (70% query relevance, 30% profile similarity)\n",
    "        combined_score = (0.7 * query_similarity) + (0.3 * profile_similarity)\n",
    "\n",
    "        combined_scores.append((doc_id, combined_score, query_similarity, profile_similarity))\n",
    "\n",
    "    # Sort by combined score\n",
    "    re_ranked_results = sorted(combined_scores, key=lambda x: x[1], reverse=True)\n",
    "\n",
    "    # Return only doc_id and combined score for compatibility with original format\n",
    "    return [(doc_id, score) for doc_id, score, _, _ in re_ranked_results]"
   ],
   "outputs": [],
   "execution_count": 14
  },
  {
   "cell_type": "markdown",
   "metadata": {},
   "source": [
    "___"
   ]
  },
  {
   "cell_type": "markdown",
   "metadata": {},
   "source": [
    "### 5. Performance Evaluation"
   ]
  },
  {
   "cell_type": "markdown",
   "metadata": {},
   "source": [
    "##### Generating Evaluation Data\n"
   ]
  },
  {
   "cell_type": "code",
   "metadata": {
    "ExecuteTime": {
     "end_time": "2025-03-08T07:26:35.502116Z",
     "start_time": "2025-03-08T07:26:35.498860Z"
    }
   },
   "source": [
    "def create_diverse_test_queries():\n",
    "    \"\"\"\n",
    "    Create a diverse set of test queries for evaluation\n",
    "    \"\"\"\n",
    "    test_queries = {\n",
    "        0: {\n",
    "            'query': \"artificial intelligence innovation technology\",\n",
    "            'topics': [\"technology\", \"innovation\"]\n",
    "        },\n",
    "        1: {\n",
    "            'query': \"global economy financial markets business trends\",\n",
    "            'topics': [\"business\"]\n",
    "        },\n",
    "        2: {\n",
    "            'query': \"travel destinations europe asia vacation\",\n",
    "            'topics': [\"travel\"]\n",
    "        },\n",
    "        3: {\n",
    "            'query': \"art exhibition culture museum gallery\",\n",
    "            'topics': [\"arts\"]\n",
    "        },\n",
    "        4: {\n",
    "            'query': \"climate change environment sustainability\",\n",
    "            'topics': [\"travel\", \"innovation\"]\n",
    "        },\n",
    "        5: {\n",
    "            'query': \"digital marketing strategy business\",\n",
    "            'topics': [\"business\", \"technology\"]\n",
    "        },\n",
    "        6: {\n",
    "            'query': \"healthcare medical technology innovation\",\n",
    "            'topics': [\"technology\", \"innovation\"]\n",
    "        },\n",
    "        7: {\n",
    "            'query': \"social media impact communication\",\n",
    "            'topics': [\"technology\", \"business\"]\n",
    "        },\n",
    "        8: {\n",
    "            'query': \"wildlife conservation nature animals\",\n",
    "            'topics': [\"travel\"]\n",
    "        },\n",
    "        9: {\n",
    "            'query': \"renewable energy sustainable technology\",\n",
    "            'topics': [\"technology\", \"innovation\"]\n",
    "        }\n",
    "    }\n",
    "    return test_queries"
   ],
   "outputs": [],
   "execution_count": 15
  },
  {
   "metadata": {
    "ExecuteTime": {
     "end_time": "2025-03-08T07:26:35.512351Z",
     "start_time": "2025-03-08T07:26:35.509931Z"
    }
   },
   "cell_type": "code",
   "source": [
    "def print_user_profiles(user_profiles):\n",
    "    \"\"\"\n",
    "    Pretty print user profiles with interests and search history.\n",
    "    \"\"\"\n",
    "    for user, details in user_profiles.items():\n",
    "        print(f\"\\n{'='*40}\")\n",
    "        print(f\"User ID: {user}\")\n",
    "        print(f\"{'-'*40}\")\n",
    "        print(f\"Interests: {', '.join(details['interests'])}\")\n",
    "        print(f\"Search History:\")\n",
    "        for i, query in enumerate(details['search_history'], 1):\n",
    "            print(f\"  {i}. {query}\")\n",
    "        print(f\"{'='*40}\\n\")"
   ],
   "outputs": [],
   "execution_count": 16
  },
  {
   "cell_type": "code",
   "metadata": {
    "ExecuteTime": {
     "end_time": "2025-03-08T07:26:35.523131Z",
     "start_time": "2025-03-08T07:26:35.520579Z"
    }
   },
   "source": [
    "def create_user_profiles():\n",
    "    \"\"\"\n",
    "    Create realistic user profiles for evaluation\n",
    "    \"\"\"\n",
    "    user_profiles = {\n",
    "        \"user01\": {\n",
    "            \"interests\": [\"travel\", \"arts\", \"nature\", \"wildlife\", \"culture\"],\n",
    "            \"search_history\": [\n",
    "                \"best places to visit in Europe\",\n",
    "                \"wildlife photography tips\",\n",
    "                \"contemporary art exhibitions\",\n",
    "                \"natural landscapes photography\",\n",
    "                \"cultural heritage sites\"\n",
    "            ]\n",
    "        },\n",
    "        \"user02\": {\n",
    "            \"interests\": [\"technology\", \"innovation\", \"business\", \"programming\", \"entrepreneurship\"],\n",
    "            \"search_history\": [\n",
    "                \"emerging technology trends\",\n",
    "                \"startup funding strategies\",\n",
    "                \"technology innovation examples\",\n",
    "                \"business development strategies\",\n",
    "                \"tech company news\"\n",
    "            ]\n",
    "        }\n",
    "    }\n",
    "\n",
    "    print_user_profiles(user_profiles)\n",
    "\n",
    "    return user_profiles"
   ],
   "outputs": [],
   "execution_count": 17
  },
  {
   "cell_type": "code",
   "metadata": {
    "ExecuteTime": {
     "end_time": "2025-03-08T07:26:35.532094Z",
     "start_time": "2025-03-08T07:26:35.529567Z"
    }
   },
   "source": [
    "def determine_relevance(doc_id, query_info, documents):\n",
    "    \"\"\"\n",
    "    Determine document relevance based on categories and content\n",
    "\n",
    "    Args:\n",
    "        doc_id: Document ID\n",
    "        query_info: Query information including topics\n",
    "        documents: Document collection\n",
    "\n",
    "    Returns:\n",
    "        float: Relevance score (0.0 to 1.0)\n",
    "    \"\"\"\n",
    "    doc = documents[doc_id]\n",
    "    doc_category = doc['category']\n",
    "    doc_text = doc['text'].lower()\n",
    "\n",
    "    # Check if document category matches any query topics\n",
    "    category_match = doc_category in query_info['topics']\n",
    "\n",
    "    # Calculate text match based on query terms\n",
    "    query_terms = query_info['query'].lower().split()\n",
    "    term_matches = sum(1 for term in query_terms if term in doc_text)\n",
    "    term_score = min(term_matches / len(query_terms), 1.0)\n",
    "\n",
    "    # Combine category and term relevance\n",
    "    if category_match:\n",
    "        return 0.7 + 0.3 * term_score\n",
    "    else:\n",
    "        return 0.4 * term_score"
   ],
   "outputs": [],
   "execution_count": 18
  },
  {
   "cell_type": "code",
   "metadata": {
    "ExecuteTime": {
     "end_time": "2025-03-08T07:26:35.537933Z",
     "start_time": "2025-03-08T07:26:35.535641Z"
    }
   },
   "source": [
    "def generate_relevance_judgments(test_queries, documents, threshold=0.5):\n",
    "    \"\"\"\n",
    "    Generate relevance judgments for test queries\n",
    "\n",
    "    Args:\n",
    "        test_queries: Dictionary of test queries\n",
    "        documents: Document collection\n",
    "        threshold: Relevance threshold (default 0.5)\n",
    "\n",
    "    Returns:\n",
    "        dict: Test queries with relevant document lists\n",
    "    \"\"\"\n",
    "    for query_id, query_info in test_queries.items():\n",
    "        relevant_docs = []\n",
    "\n",
    "        for doc_id in documents:\n",
    "            relevance = determine_relevance(doc_id, query_info, documents)\n",
    "            if relevance >= threshold:\n",
    "                relevant_docs.append(doc_id)\n",
    "\n",
    "        test_queries[query_id]['relevant_docs'] = relevant_docs\n",
    "\n",
    "    return test_queries"
   ],
   "outputs": [],
   "execution_count": 19
  },
  {
   "cell_type": "markdown",
   "metadata": {},
   "source": [
    "##### Precision and Recall Metrics"
   ]
  },
  {
   "cell_type": "code",
   "metadata": {
    "ExecuteTime": {
     "end_time": "2025-03-08T07:26:35.545413Z",
     "start_time": "2025-03-08T07:26:35.542696Z"
    }
   },
   "source": [
    "def calculate_precision_recall_at_k(results, relevant_docs, k_values):\n",
    "    metrics = {}\n",
    "\n",
    "    for k in k_values:\n",
    "        # Initialize metrics even if not enough results\n",
    "        metrics[f'precision@{k}'] = 0\n",
    "        metrics[f'recall@{k}'] = 0\n",
    "\n",
    "        # Skip calculation if no relevant docs\n",
    "        if not relevant_docs:\n",
    "            continue\n",
    "\n",
    "        # Calculate if we have enough results\n",
    "        if len(results) > 0:\n",
    "            # Get top-k results or all results if less than k\n",
    "            retrieved_k = [doc_id for doc_id, _ in results[:min(k, len(results))]]\n",
    "            relevant_retrieved = len(set(retrieved_k) & set(relevant_docs))\n",
    "\n",
    "            # Calculate precision and recall\n",
    "            precision = relevant_retrieved / k if k > 0 else 0\n",
    "            recall = relevant_retrieved / len(relevant_docs) if relevant_docs else 0\n",
    "\n",
    "            metrics[f'precision@{k}'] = precision\n",
    "            metrics[f'recall@{k}'] = recall\n",
    "\n",
    "    return metrics"
   ],
   "outputs": [],
   "execution_count": 20
  },
  {
   "cell_type": "code",
   "metadata": {
    "ExecuteTime": {
     "end_time": "2025-03-08T07:26:35.553319Z",
     "start_time": "2025-03-08T07:26:35.550216Z"
    }
   },
   "source": [
    "def calculate_average_precision(results, relevant_docs):\n",
    "    \"\"\"\n",
    "    Calculate average precision for a query\n",
    "\n",
    "    Args:\n",
    "        results: Ranked list of (doc_id, score) tuples\n",
    "        relevant_docs: Set of relevant document IDs\n",
    "\n",
    "    Returns:\n",
    "        float: Average precision\n",
    "    \"\"\"\n",
    "    if not relevant_docs:\n",
    "        return 0.0\n",
    "\n",
    "    avg_precision = 0.0\n",
    "    relevant_found = 0\n",
    "\n",
    "    for i, (doc_id, _) in enumerate(results):\n",
    "        rank = i + 1\n",
    "        if doc_id in relevant_docs:\n",
    "            relevant_found += 1\n",
    "            precision_at_k = relevant_found / rank\n",
    "            avg_precision += precision_at_k\n",
    "\n",
    "    if relevant_found > 0:\n",
    "        avg_precision /= len(relevant_docs)\n",
    "\n",
    "    return avg_precision"
   ],
   "outputs": [],
   "execution_count": 21
  },
  {
   "cell_type": "code",
   "metadata": {
    "ExecuteTime": {
     "end_time": "2025-03-08T07:26:35.563978Z",
     "start_time": "2025-03-08T07:26:35.561144Z"
    }
   },
   "source": [
    "def calculate_r_precision(results, relevant_docs):\n",
    "    \"\"\"\n",
    "    Calculate R-Precision\n",
    "\n",
    "    Args:\n",
    "        results: Ranked list of (doc_id, score) tuples\n",
    "        relevant_docs: Set of relevant document IDs\n",
    "\n",
    "    Returns:\n",
    "        float: R-Precision\n",
    "    \"\"\"\n",
    "    if not relevant_docs:\n",
    "        return 0.0\n",
    "\n",
    "    r = len(relevant_docs)\n",
    "    if r <= len(results):\n",
    "        retrieved_r = [doc_id for doc_id, _ in results[:r]]\n",
    "        relevant_retrieved = len(set(retrieved_r) & set(relevant_docs))\n",
    "        return relevant_retrieved / r\n",
    "    else:\n",
    "        retrieved = [doc_id for doc_id, _ in results]\n",
    "        relevant_retrieved = len(set(retrieved) & set(relevant_docs))\n",
    "        return relevant_retrieved / r"
   ],
   "outputs": [],
   "execution_count": 22
  },
  {
   "cell_type": "markdown",
   "metadata": {},
   "source": [
    "##### Advanced Evaluation Methods"
   ]
  },
  {
   "cell_type": "code",
   "metadata": {
    "ExecuteTime": {
     "end_time": "2025-03-08T07:26:35.569737Z",
     "start_time": "2025-03-08T07:26:35.567659Z"
    }
   },
   "source": [
    "def calculate_precision_recall_curve(results, relevant_docs):\n",
    "    \"\"\"\n",
    "    Calculate points for precision-recall curve\n",
    "\n",
    "    Args:\n",
    "        results: Ranked list of (doc_id, score) tuples\n",
    "        relevant_docs: Set of relevant document IDs\n",
    "\n",
    "    Returns:\n",
    "        tuple: Lists of recall and precision values\n",
    "    \"\"\"\n",
    "    if not relevant_docs:\n",
    "        return [0], [0]\n",
    "\n",
    "    recalls = []\n",
    "    precisions = []\n",
    "    relevant_found = 0\n",
    "\n",
    "    for i, (doc_id, _) in enumerate(results):\n",
    "        rank = i + 1\n",
    "        if doc_id in relevant_docs:\n",
    "            relevant_found += 1\n",
    "\n",
    "        precision = relevant_found / rank if rank > 0 else 0\n",
    "        recall = relevant_found / len(relevant_docs) if relevant_docs else 0\n",
    "\n",
    "        precisions.append(precision)\n",
    "        recalls.append(recall)\n",
    "\n",
    "    return recalls, precisions"
   ],
   "outputs": [],
   "execution_count": 23
  },
  {
   "cell_type": "code",
   "metadata": {
    "ExecuteTime": {
     "end_time": "2025-03-08T07:26:35.583189Z",
     "start_time": "2025-03-08T07:26:35.580718Z"
    }
   },
   "source": [
    "def calculate_11point_interpolated_precision(recalls, precisions):\n",
    "    \"\"\"\n",
    "    Calculate 11-point interpolated precision\n",
    "\n",
    "    Args:\n",
    "        recalls: List of recall values\n",
    "        precisions: List of precision values\n",
    "\n",
    "    Returns:\n",
    "        dict: 11-point interpolated precision values\n",
    "    \"\"\"\n",
    "    interpolated = {}\n",
    "\n",
    "    # Standard recall levels\n",
    "    std_recalls = [0.0, 0.1, 0.2, 0.3, 0.4, 0.5, 0.6, 0.7, 0.8, 0.9, 1.0]\n",
    "\n",
    "    # Ensure recalls and precisions are paired correctly\n",
    "    points = list(zip(recalls, precisions))\n",
    "    points.sort(key=lambda x: x[0])  # Sort by recall\n",
    "\n",
    "    # Add a point for recall=1.0 if not present\n",
    "    if points and points[-1][0] < 1.0:\n",
    "        points.append((1.0, 0.0))\n",
    "\n",
    "    # Calculate interpolated precision for each standard recall level\n",
    "    for std_recall in std_recalls:\n",
    "        # Find precision values at recall >= std_recall\n",
    "        precisions_at_recall = [p for r, p in points if r >= std_recall]\n",
    "\n",
    "        if precisions_at_recall:\n",
    "            # Interpolated precision is maximum precision at recall >= std_recall\n",
    "            interpolated[std_recall] = max(precisions_at_recall)\n",
    "        else:\n",
    "            interpolated[std_recall] = 0.0\n",
    "\n",
    "    return interpolated"
   ],
   "outputs": [],
   "execution_count": 24
  },
  {
   "cell_type": "code",
   "metadata": {
    "ExecuteTime": {
     "end_time": "2025-03-08T07:26:35.615729Z",
     "start_time": "2025-03-08T07:26:35.610197Z"
    }
   },
   "source": [
    "def comprehensive_evaluation(test_queries, documents, inverted_index, doc_vectors):\n",
    "    \"\"\"\n",
    "    Comprehensive evaluation of the recommender system\n",
    "\n",
    "    Args:\n",
    "        test_queries: Dictionary of test queries with relevance judgments\n",
    "        documents: Document collection\n",
    "        inverted_index: Inverted index mapping terms to document IDs\n",
    "        doc_vectors: Document vectors for similarity calculations\n",
    "\n",
    "    Returns:\n",
    "        dict: Comprehensive evaluation metrics\n",
    "    \"\"\"\n",
    "    # Define k values for precision@k and recall@k\n",
    "    k_values = [5, 10, 20]\n",
    "\n",
    "    all_metrics = {}\n",
    "    pr_curves = {}\n",
    "    interpolated_precisions = {}\n",
    "\n",
    "    for query_id, query_info in test_queries.items():\n",
    "        query = query_info['query']\n",
    "        relevant_docs = set(query_info['relevant_docs'])\n",
    "\n",
    "        query_metrics = {\n",
    "            'query': query,\n",
    "            'num_relevant': len(relevant_docs)\n",
    "        }\n",
    "\n",
    "        # Get search results\n",
    "        results = search(query, documents, inverted_index, doc_vectors)\n",
    "        retrieved_docs = [doc_id for doc_id, _ in results]\n",
    "\n",
    "        # Basic metrics\n",
    "        if retrieved_docs:\n",
    "            intersection = set(retrieved_docs) & relevant_docs\n",
    "            precision = len(intersection) / len(retrieved_docs)\n",
    "            recall = len(intersection) / len(relevant_docs) if relevant_docs else 0\n",
    "            f1 = 2 * precision * recall / (precision + recall) if (precision + recall) > 0 else 0\n",
    "\n",
    "            query_metrics.update({\n",
    "                'precision': precision,\n",
    "                'recall': recall,\n",
    "                'f1_score': f1\n",
    "            })\n",
    "        else:\n",
    "            query_metrics.update({\n",
    "                'precision': 0,\n",
    "                'recall': 0,\n",
    "                'f1_score': 0\n",
    "            })\n",
    "\n",
    "        # Precision and recall at k\n",
    "        pk_rk_metrics = calculate_precision_recall_at_k(results, relevant_docs, k_values)\n",
    "        query_metrics.update(pk_rk_metrics)\n",
    "\n",
    "        # Average precision and R-Precision\n",
    "        ap = calculate_average_precision(results, relevant_docs)\n",
    "        r_prec = calculate_r_precision(results, relevant_docs)\n",
    "\n",
    "        query_metrics.update({\n",
    "            'average_precision': ap,\n",
    "            'r_precision': r_prec\n",
    "        })\n",
    "\n",
    "        # Precision-recall curve data\n",
    "        recalls, precisions = calculate_precision_recall_curve(results, relevant_docs)\n",
    "        pr_curves[query_id] = (recalls, precisions)\n",
    "\n",
    "        # 11-point interpolated precision\n",
    "        interpolated = calculate_11point_interpolated_precision(recalls, precisions)\n",
    "        interpolated_precisions[query_id] = interpolated\n",
    "\n",
    "        all_metrics[query_id] = query_metrics\n",
    "\n",
    "    # Calculate mean metrics\n",
    "    mean_metrics = {\n",
    "        'mean_precision': np.mean([m['precision'] for m in all_metrics.values()]),\n",
    "        'mean_recall': np.mean([m['recall'] for m in all_metrics.values()]),\n",
    "        'mean_f1_score': np.mean([m['f1_score'] for m in all_metrics.values()]),\n",
    "        'mean_ap': np.mean([m['average_precision'] for m in all_metrics.values()]),\n",
    "        'mean_r_precision': np.mean([m['r_precision'] for m in all_metrics.values()])\n",
    "    }\n",
    "\n",
    "    # Add mean precision@k and recall@k\n",
    "    for k in k_values:\n",
    "        mean_metrics[f'mean_precision@{k}'] = np.mean([m[f'precision@{k}'] for m in all_metrics.values()])\n",
    "        mean_metrics[f'mean_recall@{k}'] = np.mean([m[f'recall@{k}'] for m in all_metrics.values()])\n",
    "\n",
    "    # Calculate mean 11-point interpolated precision\n",
    "    mean_interpolated = {}\n",
    "    std_recalls = [0.0, 0.1, 0.2, 0.3, 0.4, 0.5, 0.6, 0.7, 0.8, 0.9, 1.0]\n",
    "\n",
    "    for recall_level in std_recalls:\n",
    "        values = [ip[recall_level] for ip in interpolated_precisions.values()]\n",
    "        mean_interpolated[recall_level] = np.mean(values)\n",
    "\n",
    "    return {\n",
    "        'query_metrics': all_metrics,\n",
    "        'mean_metrics': mean_metrics,\n",
    "        'pr_curves': pr_curves,\n",
    "        'interpolated_precisions': interpolated_precisions,\n",
    "        'mean_interpolated_precision': mean_interpolated\n",
    "    }"
   ],
   "outputs": [],
   "execution_count": 25
  },
  {
   "cell_type": "markdown",
   "metadata": {},
   "source": [
    "##### Visualization of Results"
   ]
  },
  {
   "cell_type": "code",
   "metadata": {
    "ExecuteTime": {
     "end_time": "2025-03-08T07:26:35.628284Z",
     "start_time": "2025-03-08T07:26:35.622674Z"
    }
   },
   "source": [
    "def visualize_evaluation_results(eval_results):\n",
    "    \"\"\"\n",
    "    Visualize evaluation results with various plots\n",
    "\n",
    "    Args:\n",
    "        eval_results: Evaluation results from comprehensive_evaluation\n",
    "\n",
    "    Returns:\n",
    "        None (displays plots)\n",
    "    \"\"\"\n",
    "    # 1. Precision-recall curves for all queries\n",
    "    plt.figure(figsize=(10, 6))\n",
    "\n",
    "    for query_id, (recalls, precisions) in eval_results['pr_curves'].items():\n",
    "        query_text = eval_results['query_metrics'][query_id]['query']\n",
    "        label = f\"Query {query_id}: {query_text[:20]}...\" if len(query_text) > 20 else query_text\n",
    "        plt.plot(recalls, precisions, marker='.', label=f\"Query {query_id}\")\n",
    "\n",
    "    # Plot mean interpolated precision\n",
    "    mean_interpolated = eval_results['mean_interpolated_precision']\n",
    "    std_recalls = sorted(mean_interpolated.keys())\n",
    "    mean_precisions = [mean_interpolated[r] for r in std_recalls]\n",
    "\n",
    "    plt.plot(std_recalls, mean_precisions, 'k--', linewidth=2, label='Mean Interpolated Precision')\n",
    "\n",
    "    plt.xlabel('Recall')\n",
    "    plt.ylabel('Precision')\n",
    "    plt.title('Precision-Recall Curves')\n",
    "    plt.grid(True, linestyle='--', alpha=0.7)\n",
    "    plt.legend(loc='best')\n",
    "    plt.show()\n",
    "\n",
    "    # 2. Bar chart of key metrics for each query\n",
    "    query_ids = list(eval_results['query_metrics'].keys())\n",
    "    metrics = ['precision', 'recall', 'f1_score', 'average_precision', 'r_precision']\n",
    "\n",
    "    fig, axes = plt.subplots(len(metrics), 1, figsize=(12, 12), sharex=True)\n",
    "\n",
    "    for i, metric in enumerate(metrics):\n",
    "        values = [eval_results['query_metrics'][qid][metric] for qid in query_ids]\n",
    "        axes[i].bar(query_ids, values)\n",
    "\n",
    "        # axes[i].axhline(eval_results['mean_metrics'][f'mean_{metric}'], color='r', linestyle='--', label=f'Mean {metric}')\n",
    "        mean_key = 'mean_ap' if metric == 'average_precision' else f'mean_{metric}'\n",
    "        axes[i].axhline(eval_results['mean_metrics'][mean_key], color='r', linestyle='--', label=f'Mean {metric}')\n",
    "\n",
    "        axes[i].set_ylabel(metric.replace('_', ' ').title())\n",
    "        axes[i].grid(True, linestyle='--', alpha=0.3)\n",
    "        axes[i].legend()\n",
    "\n",
    "    axes[-1].set_xlabel('Query ID')\n",
    "    fig.suptitle('Key Metrics by Query')\n",
    "    plt.tight_layout()\n",
    "    plt.show()\n",
    "\n",
    "    # 3. Precision@k and Recall@k comparison\n",
    "    k_values = [5, 10, 20]\n",
    "    metrics_pk = [f'precision@{k}' for k in k_values]\n",
    "    metrics_rk = [f'recall@{k}' for k in k_values]\n",
    "\n",
    "    fig, (ax1, ax2) = plt.subplots(2, 1, figsize=(12, 8))\n",
    "\n",
    "    # Precision@k\n",
    "    data_pk = []\n",
    "    for k in k_values:\n",
    "        metric = f'precision@{k}'\n",
    "        values = [eval_results['query_metrics'][qid].get(metric, 0) for qid in query_ids]\n",
    "        data_pk.append(values)\n",
    "\n",
    "    ax1.boxplot(np.array(data_pk).T, tick_labels=[f'P@{k}' for k in k_values])\n",
    "    ax1.set_ylabel('Precision')\n",
    "    ax1.set_title('Precision@k Distribution')\n",
    "    ax1.grid(True, linestyle='--', alpha=0.3)\n",
    "\n",
    "    # Recall@k\n",
    "    data_rk = []\n",
    "    for k in k_values:\n",
    "        metric = f'recall@{k}'\n",
    "        values = [eval_results['query_metrics'][qid].get(metric, 0) for qid in query_ids]\n",
    "        data_rk.append(values)\n",
    "\n",
    "    ax2.boxplot(np.array(data_rk).T, tick_labels=[f'R@{k}' for k in k_values])\n",
    "    ax2.set_ylabel('Recall')\n",
    "    ax2.set_title('Recall@k Distribution')\n",
    "    ax2.grid(True, linestyle='--', alpha=0.3)\n",
    "\n",
    "    plt.tight_layout()\n",
    "    plt.show()\n",
    "\n",
    "    # 4. 11-point interpolated precision curve\n",
    "    plt.figure(figsize=(10, 6))\n",
    "\n",
    "    std_recalls = sorted(eval_results['mean_interpolated_precision'].keys())\n",
    "    mean_precisions = [eval_results['mean_interpolated_precision'][r] for r in std_recalls]\n",
    "\n",
    "    plt.plot(std_recalls, mean_precisions, 'bo-', linewidth=2, markersize=8)\n",
    "    plt.xlabel('Recall')\n",
    "    plt.ylabel('Interpolated Precision')\n",
    "    plt.title('11-Point Interpolated Average Precision')\n",
    "    plt.grid(True)\n",
    "    plt.show()\n",
    "\n",
    "    # 5. Summary metrics table\n",
    "    print(\"======= SUMMARY METRICS =======\")\n",
    "    for metric, value in eval_results['mean_metrics'].items():\n",
    "        print(f\"{metric.replace('_', ' ').title()}: {value:.4f}\")"
   ],
   "outputs": [],
   "execution_count": 26
  },
  {
   "cell_type": "markdown",
   "metadata": {},
   "source": [
    "___"
   ]
  },
  {
   "cell_type": "markdown",
   "metadata": {},
   "source": [
    "### 6. Main Execution"
   ]
  },
  {
   "cell_type": "markdown",
   "metadata": {},
   "source": [
    "##### Simulating Recommendations"
   ]
  },
  {
   "cell_type": "code",
   "metadata": {
    "ExecuteTime": {
     "end_time": "2025-03-08T07:26:35.633836Z",
     "start_time": "2025-03-08T07:26:35.631163Z"
    }
   },
   "source": [
    "def simulate_user_recommendations(user_profiles, documents, inverted_index, doc_vectors):\n",
    "    \"\"\"\n",
    "    Simulate recommendations for different user profiles\n",
    "\n",
    "    Args:\n",
    "        user_profiles: Dictionary of user profiles\n",
    "        documents: Document collection\n",
    "        inverted_index: Inverted index mapping terms to document IDs\n",
    "        doc_vectors: Document vectors for similarity calculations\n",
    "\n",
    "    Returns:\n",
    "        dict: Recommendations for each user\n",
    "    \"\"\"\n",
    "    user_recommendations = {}\n",
    "\n",
    "    for user_id, profile in user_profiles.items():\n",
    "        print(f\"\\nGenerating recommendations for {user_id}...\")\n",
    "\n",
    "        # Combine interests and search history into a query\n",
    "        user_query = \" \".join(profile[\"interests\"]) + \" \" + \" \".join(profile[\"search_history\"])\n",
    "\n",
    "        # Get recommendations\n",
    "        results = search(user_query, documents, inverted_index, doc_vectors)\n",
    "\n",
    "        # Store top 10 recommendations\n",
    "        top_recommendations = [(doc_id, score, documents[doc_id]['name']) for doc_id, score in results[:10]]\n",
    "        user_recommendations[user_id] = top_recommendations\n",
    "\n",
    "        # Display recommendations\n",
    "        print(f\"Top 5 recommendations for {user_id}:\")\n",
    "        for i, (doc_id, score, name) in enumerate(top_recommendations[:5]):\n",
    "            print(f\"{i + 1}. {name} (Score: {score:.4f})\")\n",
    "            print(f\"Text: {documents[doc_id]['text'].split('. ')[0][:80]}...\\n\")\n",
    "\n",
    "    return user_recommendations"
   ],
   "outputs": [],
   "execution_count": 27
  },
  {
   "cell_type": "markdown",
   "metadata": {},
   "source": [
    "##### Evaluate User"
   ]
  },
  {
   "cell_type": "code",
   "metadata": {
    "ExecuteTime": {
     "end_time": "2025-03-08T07:26:35.641971Z",
     "start_time": "2025-03-08T07:26:35.638629Z"
    }
   },
   "source": [
    "def evaluate_user_recommendations(user_recommendations, user_profiles, documents):\n",
    "    \"\"\"\n",
    "    Evaluate user recommendations based on profile alignment\n",
    "\n",
    "    Args:\n",
    "        user_recommendations: Recommendations for each user\n",
    "        user_profiles: Dictionary of user profiles\n",
    "        documents: Document collection\n",
    "\n",
    "    Returns:\n",
    "        dict: Evaluation metrics for user recommendations\n",
    "    \"\"\"\n",
    "    results = {}\n",
    "\n",
    "    for user_id, recommendations in user_recommendations.items():\n",
    "        profile = user_profiles[user_id]\n",
    "        interests = set(profile[\"interests\"])\n",
    "\n",
    "        relevance_scores = []\n",
    "        category_matches = []\n",
    "\n",
    "        for doc_id, score, _ in recommendations:\n",
    "            # Check category match with interests\n",
    "            category = documents[doc_id]['category']\n",
    "            category_match = category in interests\n",
    "            category_matches.append(category_match)\n",
    "\n",
    "            # Calculate text match with interests and search history\n",
    "            doc_text = documents[doc_id]['text'].lower()\n",
    "            interest_matches = sum(1 for interest in interests if interest.lower() in doc_text)\n",
    "            query_matches = sum(1 for query in profile[\"search_history\"] if query.lower() in doc_text)\n",
    "\n",
    "            # Combined relevance score\n",
    "            relevance = (interest_matches / len(interests) + query_matches / len(profile[\"search_history\"])) / 2\n",
    "            if category_match:\n",
    "                relevance += 0.3\n",
    "\n",
    "            relevance_scores.append(min(relevance, 1.0))\n",
    "\n",
    "        # Calculate metrics\n",
    "        precision = sum(1 for match in category_matches if match) / len(category_matches)\n",
    "        avg_relevance = sum(relevance_scores) / len(relevance_scores)\n",
    "\n",
    "        results[user_id] = {\n",
    "            'precision': precision,\n",
    "            'avg_relevance': avg_relevance,\n",
    "            'relevance_scores': relevance_scores,\n",
    "            'category_matches': category_matches\n",
    "        }\n",
    "\n",
    "    return results"
   ],
   "outputs": [],
   "execution_count": 28
  },
  {
   "cell_type": "markdown",
   "metadata": {},
   "source": [
    "##### Executing the System"
   ]
  },
  {
   "metadata": {
    "ExecuteTime": {
     "end_time": "2025-03-08T07:35:17.636401Z",
     "start_time": "2025-03-08T07:35:17.621474Z"
    }
   },
   "cell_type": "code",
   "source": [
    "def compare_personalized_search_results(query, user_profiles, documents, inverted_index, doc_vectors, top_k=5):\n",
    "    \"\"\"\n",
    "    Compare search results for the same query across different user profiles.\n",
    "\n",
    "    Args:\n",
    "        query (str): The search query\n",
    "        user_profiles (dict): Dictionary of user profiles\n",
    "        documents (dict): Dictionary of documents\n",
    "        inverted_index (dict): Inverted index mapping terms to document IDs\n",
    "        doc_vectors (dict): Document vectors for similarity calculations\n",
    "        top_k (int): Number of top results to show for each user\n",
    "\n",
    "    Returns:\n",
    "        dict: Search results for each user\n",
    "    \"\"\"\n",
    "    results_by_user = {}\n",
    "\n",
    "    # First get non-personalized results as baseline\n",
    "    base_results = search(query, documents, inverted_index, doc_vectors)\n",
    "    base_docs = [(doc_id, score, documents[doc_id]['name'], documents[doc_id]['category'])\n",
    "                 for doc_id, score in base_results[:top_k]]\n",
    "    results_by_user[\"no_user\"] = base_docs\n",
    "\n",
    "    # Create a simplified version of search function without dependency on interest_vector\n",
    "    def simplified_personalized_search(query, user_id, documents, inverted_index, doc_vectors, user_profiles):\n",
    "        # Get base results\n",
    "        base_results = search(query, documents, inverted_index, doc_vectors)\n",
    "\n",
    "        # Get user profile\n",
    "        profile = user_profiles[user_id]\n",
    "        interests = profile[\"interests\"]\n",
    "        search_history = profile[\"search_history\"]\n",
    "\n",
    "        # Re-rank results based on user interests and search history\n",
    "        personalized_results = []\n",
    "        for doc_id, score in base_results:\n",
    "            doc = documents[doc_id]\n",
    "            category = doc['category']\n",
    "            text = doc['text'].lower()\n",
    "\n",
    "            # Calculate profile match score\n",
    "            interest_match = sum(1 for interest in interests if interest.lower() in text or interest.lower() == category.lower())\n",
    "            history_match = sum(1 for query in search_history if query.lower() in text)\n",
    "\n",
    "            # Normalize matches\n",
    "            interest_score = interest_match / len(interests) if interests else 0\n",
    "            history_score = history_match / len(search_history) if search_history else 0\n",
    "\n",
    "            # Combined profile match score (can adjust weights)\n",
    "            profile_score = 0.6 * interest_score + 0.4 * history_score\n",
    "\n",
    "            # Combined with original score (70% original, 30% profile)\n",
    "            combined_score = 0.7 * score + 0.3 * profile_score\n",
    "\n",
    "            personalized_results.append((doc_id, combined_score))\n",
    "\n",
    "        # Sort by combined score\n",
    "        return sorted(personalized_results, key=lambda x: x[1], reverse=True)\n",
    "\n",
    "    # Get personalized results for each user\n",
    "    for user_id in user_profiles:\n",
    "        user_results = simplified_personalized_search(query, user_id, documents, inverted_index, doc_vectors, user_profiles)\n",
    "        user_docs = [(doc_id, score, documents[doc_id]['name'], documents[doc_id]['category'])\n",
    "                     for doc_id, score in user_results[:top_k]]\n",
    "        results_by_user[user_id] = user_docs\n",
    "\n",
    "    # Print comparison\n",
    "    print(f\"\\n{'='*80}\")\n",
    "    print(f\"SEARCH RESULTS COMPARISON FOR QUERY: '{query}'\")\n",
    "    print(f\"{'='*80}\")\n",
    "\n",
    "    print(f\"\\nBASELINE (Non-personalized) Results:\")\n",
    "    print(f\"{'-'*40}\")\n",
    "    for i, (doc_id, score, name, category) in enumerate(results_by_user[\"no_user\"]):\n",
    "        print(f\"{i+1}. [{category}] {name} (Score: {score:.4f})\")\n",
    "\n",
    "    for user_id, results in results_by_user.items():\n",
    "        if user_id == \"no_user\":\n",
    "            continue\n",
    "\n",
    "        print(f\"\\n{user_id.upper()} Results:\")\n",
    "        print(f\"{'-'*40}\")\n",
    "        for i, (doc_id, score, name, category) in enumerate(results):\n",
    "            print(f\"{i+1}. [{category}] {name} (Score: {score:.4f})\")\n",
    "            print(f\"Excerpt: {documents[doc_id]['text'].split('. ')[0][:80]}...\\n\")\n",
    "\n",
    "    return results_by_user"
   ],
   "outputs": [],
   "execution_count": 38
  },
  {
   "cell_type": "code",
   "metadata": {
    "ExecuteTime": {
     "end_time": "2025-03-08T07:35:25.479291Z",
     "start_time": "2025-03-08T07:35:19.071548Z"
    }
   },
   "source": [
    "def main():\n",
    "    \"\"\"\n",
    "    Main function with improved evaluation methodology\n",
    "    \"\"\"\n",
    "    # Set up base directory\n",
    "    base_dir = 'bbc_articles'  # Update this path to your data directory\n",
    "\n",
    "    # 1. Load and preprocess documents\n",
    "    print(\"Loading and preprocessing documents...\")\n",
    "    documents, doc_paths = load_documents(base_dir)\n",
    "    documents = preprocess_documents(documents)\n",
    "\n",
    "    # 2. Build inverted index and calculate TF-IDF\n",
    "    print(\"\\nBuilding inverted index and calculating TF-IDF scores...\")\n",
    "    documents = calculate_term_frequencies(documents)\n",
    "    inverted_index = build_inverted_index(documents)\n",
    "    tfidf, doc_vectors = calculate_tfidf(documents, inverted_index)\n",
    "\n",
    "    # Display inverted index\n",
    "    display_inverted_index(inverted_index)\n",
    "\n",
    "    # 3. Create diverse test queries and generate relevance judgments\n",
    "    print(\"\\nCreating test queries and relevance judgments...\")\n",
    "    test_queries = create_diverse_test_queries()\n",
    "    test_queries = generate_relevance_judgments(test_queries, documents)\n",
    "\n",
    "    # 4. Comprehensive evaluation\n",
    "    print(\"\\nPerforming comprehensive evaluation...\")\n",
    "    eval_results = comprehensive_evaluation(test_queries, documents, inverted_index, doc_vectors)\n",
    "\n",
    "    # 5. Visualize evaluation results\n",
    "    print(\"\\nVisualizing evaluation results...\")\n",
    "    visualize_evaluation_results(eval_results)\n",
    "\n",
    "    # 6. User profile recommendations\n",
    "    print(\"\\nSimulating user profile recommendations...\")\n",
    "    user_profiles = create_user_profiles()\n",
    "    user_recommendations = simulate_user_recommendations(user_profiles, documents, inverted_index, doc_vectors)\n",
    "\n",
    "    # 7. Evaluate user recommendations\n",
    "    print(\"\\nEvaluating user recommendations...\")\n",
    "    user_eval_results = evaluate_user_recommendations(user_recommendations, user_profiles, documents)\n",
    "\n",
    "    # Display user evaluation results\n",
    "    for user_id, metrics in user_eval_results.items():\n",
    "        print(f\"\\nEvaluation for {user_id}:\")\n",
    "        print(f\"Precision (category match): {metrics['precision']:.4f}\")\n",
    "        print(f\"Average relevance score: {metrics['avg_relevance']:.4f}\")\n",
    "\n",
    "    # 8. Demonstrate personalized search for an ambiguous query\n",
    "    print(\"\\nDemonstrating personalized search for ambiguous query...\")\n",
    "    compare_personalized_search_results(\"python\", user_profiles, documents, inverted_index, doc_vectors)\n",
    "\n",
    "if __name__ == \"__main__\":\n",
    "    main()"
   ],
   "outputs": [
    {
     "name": "stdout",
     "output_type": "stream",
     "text": [
      "Loading and preprocessing documents...\n",
      "Extracting text from file: bbc_articles/innovation/innovation_news_10.pdf\n",
      "Extracting text from file: bbc_articles/innovation/innovation_news_8.pdf\n",
      "Extracting text from file: bbc_articles/innovation/innovation_news_9.pdf\n",
      "Extracting text from file: bbc_articles/innovation/innovation_news_4.pdf\n",
      "Extracting text from file: bbc_articles/innovation/innovation_news_5.pdf\n",
      "Extracting text from file: bbc_articles/innovation/innovation_news_7.pdf\n",
      "Extracting text from file: bbc_articles/innovation/innovation_news_6.pdf\n",
      "Extracting text from file: bbc_articles/innovation/innovation_news_2.pdf\n",
      "Extracting text from file: bbc_articles/innovation/innovation_news_3.pdf\n",
      "Extracting text from file: bbc_articles/innovation/innovation_news_1.pdf\n",
      "Extracting text from file: bbc_articles/innovation/innovation_news_0.pdf\n",
      "Extracting text from file: bbc_articles/arts/arts_news_0.pdf\n",
      "Extracting text from file: bbc_articles/arts/arts_news_1.pdf\n",
      "Extracting text from file: bbc_articles/arts/arts_news_3.pdf\n",
      "Extracting text from file: bbc_articles/arts/arts_news_2.pdf\n",
      "Extracting text from file: bbc_articles/arts/arts_news_6.pdf\n",
      "Extracting text from file: bbc_articles/arts/arts_news_7.pdf\n",
      "Extracting text from file: bbc_articles/arts/arts_news_5.pdf\n",
      "Extracting text from file: bbc_articles/arts/arts_news_4.pdf\n",
      "Extracting text from file: bbc_articles/arts/arts_news_9.pdf\n",
      "Extracting text from file: bbc_articles/arts/arts_news_8.pdf\n",
      "Extracting text from file: bbc_articles/technology/technology_news_15.pdf\n",
      "Extracting text from file: bbc_articles/technology/technology_news_5.pdf\n",
      "Extracting text from file: bbc_articles/technology/technology_news_4.pdf\n",
      "Extracting text from file: bbc_articles/technology/technology_news_14.pdf\n",
      "Extracting text from file: bbc_articles/technology/technology_news_6.pdf\n",
      "Extracting text from file: bbc_articles/technology/technology_news_7.pdf\n",
      "Extracting text from file: bbc_articles/technology/technology_news_3.pdf\n",
      "Extracting text from file: bbc_articles/technology/technology_news_13.pdf\n",
      "Extracting text from file: bbc_articles/technology/technology_news_12.pdf\n",
      "Extracting text from file: bbc_articles/technology/technology_news_2.pdf\n",
      "Extracting text from file: bbc_articles/technology/technology_news_10.pdf\n",
      "Extracting text from file: bbc_articles/technology/technology_news_0.pdf\n",
      "Extracting text from file: bbc_articles/technology/technology_news_1.pdf\n",
      "Extracting text from file: bbc_articles/technology/technology_news_11.pdf\n",
      "Extracting text from file: bbc_articles/technology/technology_news_9.pdf\n",
      "Extracting text from file: bbc_articles/technology/technology_news_8.pdf\n",
      "Extracting text from file: bbc_articles/business/business_news_9.pdf\n",
      "Extracting text from file: bbc_articles/business/business_news_8.pdf\n",
      "Extracting text from file: bbc_articles/business/business_news_3.pdf\n",
      "Extracting text from file: bbc_articles/business/business_news_2.pdf\n",
      "Extracting text from file: bbc_articles/business/business_news_0.pdf\n",
      "Extracting text from file: bbc_articles/business/business_news_1.pdf\n",
      "Extracting text from file: bbc_articles/business/business_news_5.pdf\n",
      "Extracting text from file: bbc_articles/business/business_news_4.pdf\n",
      "Extracting text from file: bbc_articles/business/business_news_6.pdf\n",
      "Extracting text from file: bbc_articles/business/business_news_7.pdf\n",
      "Extracting text from file: bbc_articles/business/business_news_13.pdf\n",
      "Extracting text from file: bbc_articles/business/business_news_12.pdf\n",
      "Extracting text from file: bbc_articles/business/business_news_10.pdf\n",
      "Extracting text from file: bbc_articles/business/business_news_11.pdf\n",
      "Extracting text from file: bbc_articles/business/business_news_14.pdf\n",
      "Extracting text from file: bbc_articles/travel/travel_news_0.pdf\n",
      "Extracting text from file: bbc_articles/travel/travel_news_1.pdf\n",
      "Extracting text from file: bbc_articles/travel/travel_news_3.pdf\n",
      "Extracting text from file: bbc_articles/travel/travel_news_2.pdf\n",
      "Extracting text from file: bbc_articles/travel/travel_news_6.pdf\n",
      "Extracting text from file: bbc_articles/travel/travel_news_5.pdf\n",
      "Extracting text from file: bbc_articles/travel/travel_news_4.pdf\n",
      "Loaded 59 documents from bbc_articles\n",
      "\n",
      "Building inverted index and calculating TF-IDF scores...\n",
      "Top 10 terms in the inverted index:\n",
      "==================================================\n",
      "Term                 Doc Count  Documents           \n",
      "--------------------------------------------------\n",
      "advertis             59         [0, 1, 2, 3, 4]...  \n",
      "support              59         [0, 1, 2, 3, 4]...  \n",
      "use                  59         [0, 1, 2, 3, 4]...  \n",
      "polici               59         [0, 1, 2, 3, 4]...  \n",
      "cookiesaccess        59         [0, 1, 2, 3, 4]...  \n",
      "ago                  59         [0, 1, 2, 3, 4]...  \n",
      "bbc                  59         [0, 1, 2, 3, 4]...  \n",
      "pm                   59         [0, 1, 2, 3, 4]...  \n",
      "info                 59         [0, 1, 2, 3, 4]...  \n",
      "link                 59         [0, 1, 2, 3, 4]...  \n",
      "\n",
      "Creating test queries and relevance judgments...\n",
      "\n",
      "Performing comprehensive evaluation...\n",
      "\n",
      "Visualizing evaluation results...\n"
     ]
    },
    {
     "data": {
      "text/plain": [
       "<Figure size 1000x600 with 1 Axes>"
      ],
      "image/png": "[encoded data removed]"
     },
     "metadata": {},
     "output_type": "display_data"
    },
    {
     "data": {
      "text/plain": [
       "<Figure size 1200x1200 with 5 Axes>"
      ],
      "image/png": "[encoded data removed]"
     },
     "metadata": {},
     "output_type": "display_data"
    },
    {
     "data": {
      "text/plain": [
       "<Figure size 1200x800 with 2 Axes>"
      ],
      "image/png": "[encoded data removed]"
     },
     "metadata": {},
     "output_type": "display_data"
    },
    {
     "data": {
      "text/plain": [
       "<Figure size 1000x600 with 1 Axes>"
      ],
      "image/png": "[encoded data removed]"
     },
     "metadata": {},
     "output_type": "display_data"
    },
    {
     "name": "stdout",
     "output_type": "stream",
     "text": [
      "======= SUMMARY METRICS =======\n",
      "Mean Precision: 0.4630\n",
      "Mean Recall: 0.7042\n",
      "Mean F1 Score: 0.5351\n",
      "Mean Ap: 0.4632\n",
      "Mean R Precision: 0.5650\n",
      "Mean Precision@5: 0.5600\n",
      "Mean Recall@5: 0.1852\n",
      "Mean Precision@10: 0.5400\n",
      "Mean Recall@10: 0.3239\n",
      "Mean Precision@20: 0.4950\n",
      "Mean Recall@20: 0.5245\n",
      "\n",
      "Simulating user profile recommendations...\n",
      "\n",
      "========================================\n",
      "User ID: user01\n",
      "----------------------------------------\n",
      "Interests: travel, arts, nature, wildlife, culture\n",
      "Search History:\n",
      "  1. best places to visit in Europe\n",
      "  2. wildlife photography tips\n",
      "  3. contemporary art exhibitions\n",
      "  4. natural landscapes photography\n",
      "  5. cultural heritage sites\n",
      "========================================\n",
      "\n",
      "\n",
      "========================================\n",
      "User ID: user02\n",
      "----------------------------------------\n",
      "Interests: technology, innovation, business, programming, entrepreneurship\n",
      "Search History:\n",
      "  1. emerging technology trends\n",
      "  2. startup funding strategies\n",
      "  3. technology innovation examples\n",
      "  4. business development strategies\n",
      "  5. tech company news\n",
      "========================================\n",
      "\n",
      "\n",
      "Generating recommendations for user01...\n",
      "Top 5 recommendations for user01:\n",
      "1. arts/arts_news_3.pdf (Score: 0.1964)\n",
      "Text: Abuse survivors' art is 'relief from a monster' 6 hours ago Sophie Parker BBC Ne...\n",
      "\n",
      "2. arts/arts_news_8.pdf (Score: 0.1522)\n",
      "Text: Westminster visit to highlight city's culture 1 day ago PA Media Hull was the UK...\n",
      "\n",
      "3. arts/arts_news_0.pdf (Score: 0.1069)\n",
      "Text: £50k reward for 'great' artist Orlik's missing works 18 February 2025 Sophie Par...\n",
      "\n",
      "4. travel/travel_news_3.pdf (Score: 0.0675)\n",
      "Text: Digital travel permit to be introduced in late 2025 1 day ago Ashlea Tracey BBC ...\n",
      "\n",
      "5. arts/arts_news_4.pdf (Score: 0.0521)\n",
      "Text: Keith Flint mural to be restored to former glory 21 hours ago George King BBC Ne...\n",
      "\n",
      "\n",
      "Generating recommendations for user02...\n",
      "Top 5 recommendations for user02:\n",
      "1. innovation/innovation_news_9.pdf (Score: 0.0791)\n",
      "Text: Apple commits to $500bn US investment 1 day ago Natalie Sherman Business reporte...\n",
      "\n",
      "2. arts/arts_news_8.pdf (Score: 0.0714)\n",
      "Text: Westminster visit to highlight city's culture 1 day ago PA Media Hull was the UK...\n",
      "\n",
      "3. technology/technology_news_15.pdf (Score: 0.0614)\n",
      "Text: Learning to code 'will seriously change your life' 26 March 2021Share Save Micha...\n",
      "\n",
      "4. innovation/innovation_news_0.pdf (Score: 0.0537)\n",
      "Text: Apple boss says its DEI programmes may change 19 hours ago Natalie Sherman BBC N...\n",
      "\n",
      "5. technology/technology_news_6.pdf (Score: 0.0537)\n",
      "Text: Apple boss says its DEI programmes may change 17 hours ago Natalie Sherman BBC N...\n",
      "\n",
      "\n",
      "Evaluating user recommendations...\n",
      "\n",
      "Evaluation for user01:\n",
      "Precision (category match): 0.7000\n",
      "Average relevance score: 0.5100\n",
      "\n",
      "Evaluation for user02:\n",
      "Precision (category match): 0.9000\n",
      "Average relevance score: 0.5600\n",
      "\n",
      "Demonstrating personalized search for ambiguous query...\n",
      "\n",
      "================================================================================\n",
      "SEARCH RESULTS COMPARISON FOR QUERY: 'python'\n",
      "================================================================================\n",
      "\n",
      "BASELINE (Non-personalized) Results:\n",
      "----------------------------------------\n",
      "1. [travel] travel/travel_news_6.pdf (Score: 0.3956)\n",
      "2. [travel] travel/travel_news_5.pdf (Score: 0.1966)\n",
      "3. [technology] technology/technology_news_15.pdf (Score: 0.0505)\n",
      "\n",
      "USER01 Results:\n",
      "----------------------------------------\n",
      "1. [travel] travel/travel_news_6.pdf (Score: 0.3849)\n",
      "Excerpt: Royal python found abandoned outside block of flats 11 February 2025Share Save L...\n",
      "\n",
      "2. [travel] travel/travel_news_5.pdf (Score: 0.2816)\n",
      "Excerpt: Park warning after escaped python sightings 13 August 2024Share Save Fosiya Isma...\n",
      "\n",
      "3. [technology] technology/technology_news_15.pdf (Score: 0.1433)\n",
      "Excerpt: Learning to code 'will seriously change your life' 26 March 2021Share Save Micha...\n",
      "\n",
      "\n",
      "USER02 Results:\n",
      "----------------------------------------\n",
      "1. [travel] travel/travel_news_6.pdf (Score: 0.3489)\n",
      "Excerpt: Royal python found abandoned outside block of flats 11 February 2025Share Save L...\n",
      "\n",
      "2. [travel] travel/travel_news_5.pdf (Score: 0.2096)\n",
      "Excerpt: Park warning after escaped python sightings 13 August 2024Share Save Fosiya Isma...\n",
      "\n",
      "3. [technology] technology/technology_news_15.pdf (Score: 0.1793)\n",
      "Excerpt: Learning to code 'will seriously change your life' 26 March 2021Share Save Micha...\n",
      "\n"
     ]
    }
   ],
   "execution_count": 39
  },
  {
   "cell_type": "markdown",
   "metadata": {},
   "source": [
    "___"
   ]
  },
  {
   "cell_type": "markdown",
   "metadata": {},
   "source": [
    "### Summary and Key Observations  \n",
    "\n",
    "#### System Performance  \n",
    "- Precision at **top ranks** was high, but **recall declined** at deeper levels.  \n",
    "- **Mean Precision:** 46.22% | **Mean Recall:** 69.16% | **Mean MAP:** 45.25%  \n",
    "- **Interpolated Precision curves** show strong early retrieval performance but lower effectiveness at high recall levels.  \n",
    "\n",
    "#### User Recommendation Insights  \n",
    "\n",
    "##### User01 (Arts & Travel)  \n",
    "- Interests: Arts, Travel, Nature, Wildlife, Culture  \n",
    "- **Top recommendations** were mostly Arts-focused, with some Travel articles.  \n",
    "- **Precision:** 70% | **Avg. Relevance Score:** 0.51  \n",
    "- **Findings:**  \n",
    "  - The system accurately captured **arts-related interests** but underrepresented travel-related content.  \n",
    "\n",
    "##### User02 (Tech & Innovation)  \n",
    "- Interests: Technology, Innovation, Business  \n",
    "- **Received mostly Innovation & Technology documents**, with minor overlap from Arts.  \n",
    "- **Precision:** 90% | **Avg. Relevance Score:** 0.56  \n",
    "- **Findings:**  \n",
    "  - Strong alignment with **tech/business interests**, ranking relevant documents **higher**.  \n",
    "\n",
    "#### What We Learned  \n",
    "- **TF-IDF + Cosine Similarity performed well** for ranking relevant documents.  \n",
    "- **Personalization significantly improved category precision**, especially for **User02 (90%)**.  \n",
    "- User01’s Travel interests were **less represented**, suggesting **category imbalance**.  \n",
    "- **Top-5 results were highly relevant**, but recall could improve using **query expansion** or **hybrid retrieval**.  \n",
    "\n",
    "---\n",
    "\n",
    "### So, What Did We Do?  \n",
    "- Processed **60 BBC news articles**, built an **inverted index**, and ranked documents using **TF-IDF + Cosine Similarity**.  \n",
    "- **Evaluated retrieval quality** using **Precision, Recall, F1 Score, MAP, and R-Precision**, along with **visualizations**.  \n",
    "- **Personalized recommendations** for two users and analyzed retrieval effectiveness.  \n",
    "- **Results showed strong precision**, but recall could be improved, especially for users with **multi-category interests**.  \n"
   ]
  },
  {
   "cell_type": "markdown",
   "metadata": {},
   "source": [
    "___"
   ]
  },
  {
   "cell_type": "markdown",
   "metadata": {},
   "source": [
    "### Appendix: Documents Used (Data Source - bbc_articles as PDFs)\n",
    "1. Innovation\n",
    "\n",
    "   1.1 **[Apple boss Tim Cook says DEI programmes may have to change](https://www.bbc.com/news/articles/clyjv8e49deo)** <br>\n",
    "   1.2 **[Apple AI tool transcribed the word 'racist' as 'Trump'](https://www.bbc.com/news/articles/c5ymvjjqzmeo)** <br>\n",
    "   1.3 **[Artists release silent album in protest against AI using their work](https://www.bbc.com/news/articles/cwyd3r62kp5o)** <br>\n",
    "   1.4 **[Seven planets align in UK skies this week for last time until 2040](https://www.bbc.com/news/articles/c5yd4z15r54o)** <br>\n",
    "   1.5 **[What Apple pulling UK Advanced Data Protection means for you](https://www.bbc.com/news/articles/cn524lx9445o)** <br>\n",
    "   1.6 **[Cancer scans could be revolutionised by nuclear start-up](https://www.bbc.com/news/articles/c1kjmm3n427o)** <br>\n",
    "   1.7 **[University of Surrey raises £70.3m to help disadvantaged students](https://www.bbc.com/news/articles/cgq90vv9zv5o)** <br>\n",
    "   1.8 **[Mobile phone theft: What to do if your device is stolen](https://www.bbc.com/news/articles/cwygwnvdq23o)** <br>\n",
    "   1.9 **[Women's abuse online: 'I get trolled every second, every day'](https://www.bbc.com/news/articles/c625z3xgyv1o)** <br>\n",
    "   1.10 **[Singapore's biggest bank DBS to cut 4,000 roles as it embraces AI](https://www.bbc.com/news/articles/c4g7xn9y64po)** <br>\n",
    "   1.11 **[Apple commits to 'largest ever' $500bn US investment](https://www.bbc.com/news/articles/ce980m2xv30o)** <br>\n",
    "2. Arts\n",
    "\n",
    "   2.1 **[Henry Orlik: £50k reward for return of art by surrealist recluse](https://www.bbc.com/news/articles/c5yen2k3l37o)** <br>\n",
    "   2.2 **[Northampton theatre could close after budget cut, says councillor](https://www.bbc.com/news/articles/cn8rxpn3302o)** <br>\n",
    "   2.3 **[Ukranian bombed door sculpture needs display sites, artist says](https://www.bbc.com/news/articles/c0q1w2ed4lqo)** <br>\n",
    "   2.4 **[Wiltshire exhibition to display art by domestic abuse survivors](https://www.bbc.com/news/articles/c9vm4jrrp99o)** <br>\n",
    "   2.5 **[Keith Flint mural in Braintree to be restored to former glory](https://www.bbc.com/news/articles/cn0j1j9rzneo)** <br>\n",
    "   2.6 **[New roof to protect 'much-loved' Plowright Theatre in Scunthorpe](https://www.bbc.com/news/articles/cly4nnn9yzzo)** <br>\n",
    "   2.7 **[Plan to remove Devon theatre sign causes controversy](https://www.bbc.com/news/articles/c86pwy84wxpo)** <br>\n",
    "   2.8 **[Droitwich Spa: Rik Mayall mural unveiled in hometown](https://www.bbc.com/news/articles/c2erx2exk87o)** <br>\n",
    "   2.9 **[Westminster visit to highlight Hull's culture strategy](https://www.bbc.com/news/articles/clyz2q5dq2eo)** <br>\n",
    "   2.10 **[Consett Empire reduced hours 'protects venue'](https://www.bbc.com/news/articles/cz61l7pg3j8o)** <br>\n",
    "3. Technology\n",
    "\n",
    "   3.1 **[Apple AI tool transcribed the word 'racist' as 'Trump'](https://www.bbc.com/news/articles/c5ymvjjqzmeo)** <br>\n",
    "   3.2 **[Wonder Woman game axed as Warner Bros cuts three studios](https://www.bbc.com/news/articles/c0q1w9q1qvyo)** <br>\n",
    "   3.3 **[Technicolor: Historic visual effects studio collapses in UK](https://www.bbc.com/news/articles/c89yxk1egkgo)** <br>\n",
    "   3.4 **[Virgin Media internet restored after earlier outage](https://www.bbc.com/news/articles/cy05n9xn1nqo)** <br>\n",
    "   3.5 **[Medical trial helps paralysed Bedfordshire woman be a mum again](https://www.bbc.com/news/articles/ckg87l62ywjo)** <br>\n",
    "   3.6 **[Apple pulls data protection tool after UK government security row](https://www.bbc.com/news/articles/cgj54eq4vejo)** <br>\n",
    "   3.7 **[Coinbase boss claims SEC will drop crypto lawsuit](https://www.bbc.com/news/articles/cgm1g37p1z8o)** <br>\n",
    "   3.8 **[Tesla shares slump after European sales fall](https://www.bbc.com/news/articles/cvgd9v3r69qo)** <br>\n",
    "   3.9 **[What Apple pulling UK Advanced Data Protection means for you](https://www.bbc.com/news/articles/cn524lx9445o)** <br>\n",
    "   3.10 **[Cancer scans could be revolutionised by nuclear start-up](https://www.bbc.com/news/articles/c1kjmm3n427o)** <br>\n",
    "   3.11 **[University of Surrey raises £70.3m to help disadvantaged students](https://www.bbc.com/news/articles/cgq90vv9zv5o)** <br>\n",
    "   3.12 **[Apple boss Tim Cook says DEI programmes may have to change](https://www.bbc.com/news/articles/clyjv8e49deo)** <br>\n",
    "   3.13 **[How accurate are the viral TikTok AI POV lab history videos?](https://www.bbc.com/news/articles/cy87076pdw3o)** <br>\n",
    "   3.14 **[Mobile phone theft: What to do if your device is stolen](https://www.bbc.com/news/articles/cwygwnvdq23o)** <br>\n",
    "   3.15 **[Women's abuse online: 'I get trolled every second, every day'](https://www.bbc.com/news/articles/c625z3xgyv1o)** <br>\n",
    "   3.16 **[Learning to code \"will seriously change your life\"](https://www.bbc.com/news/business-56194958)** <br>\n",
    "4. Business\n",
    "\n",
    "   4.1 **[Tesla shares slump after European sales fall](https://www.bbc.com/news/articles/cvgd9v3r69qo)** <br>\n",
    "   4.2 **[India: A billion people have no real money to spend, says report](https://www.bbc.com/news/articles/c8rk5d7ekjmo)** <br>\n",
    "   4.3 **[Trump orders probe of copper in first step to tariffs](https://www.bbc.com/news/articles/c5yxv0yj40ko)** <br>\n",
    "   4.4 **[Kidney trade: Myanmar villagers fly to India to sell organs illegally](https://www.bbc.com/news/articles/ckgy8p3pe71o)** <br>\n",
    "   4.5 **[Singapore's biggest bank DBS to cut 4,000 roles as it embraces AI](https://www.bbc.com/news/articles/c4g7xn9y64po)** <br>\n",
    "   4.6 **[Theranos founder Elizabeth Holmes loses fraud appeal](https://www.bbc.com/news/articles/c1jpg0069wgo)** <br>\n",
    "   4.7 **[Putin offers Russian and Ukrainian rare minerals to US](https://www.bbc.com/news/articles/c4gdx7488g5o)** <br>\n",
    "   4.8 **[Apple AI tool transcribed the word 'racist' as 'Trump'](https://www.bbc.com/news/articles/c5ymvjjqzmeo)** <br>\n",
    "   4.9 **[BP shuns renewables in return to oil and gas](https://www.bbc.com/news/articles/c3374ekd11po)** <br>\n",
    "   4.10 **[US House narrowly passes Trump-backed spending bill](https://www.bbc.com/news/articles/cp9yx7e13ryo)** <br>\n",
    "   4.11 **[Wonder Woman game axed as Warner Bros cuts three studios](https://www.bbc.com/news/articles/c0q1w9q1qvyo)** <br>\n",
    "   4.12 **[Ukraine PM says minerals deal agreed with US](https://www.bbc.com/news/articles/c337461n3xlo)** <br>\n",
    "   4.13 **[Who is Doge's official leader? White House won't say it's Musk](https://www.bbc.com/news/articles/c2erg38vjx8o)** <br>\n",
    "   4.14 **[Countries compete to keep skilled young workers](https://www.bbc.com/news/articles/cj30xr1vy2lo)** <br>\n",
    "   4.15 **[Apple boss Tim Cook says DEI programmes may have to change](https://www.bbc.com/news/articles/clyjv8e49deo)** <br>\n",
    "5. Travel\n",
    "\n",
    "   5.1 **[Ridge Hill grass landing strip planning exemption refused](https://www.bbc.com/news/articles/cy83x20l3nzo)** <br>\n",
    "   5.2 **[Dead body placed beside Australian couple on Qatar Airways flight](https://www.bbc.com/news/articles/cz03l18jv97o)** <br>\n",
    "   5.3 **[London: St James's Palace to open to the public for first time](https://www.bbc.com/news/articles/c62z77edl33o)** <br>\n",
    "   5.4 **[Isle of Man to introduce digital travel permit in late 2025](https://www.bbc.com/news/articles/cq6y4en6przo)** <br>\n",
    "   5.5 **[New career at 50 for trainee EasyJet cabin crew](https://www.bbc.com/news/articles/cx2gyrvl55lo)** <br>\n",
    "   5.6 **[Park warning after escaped python sightings](https://www.bbc.com/news/articles/cx2lmnl2gdvo)** <br>\n",
    "   5.7 **[Royal python found abandoned outside block of flats](https://www.bbc.com/news/articles/czx8qxdqr75o)** <br>\n"
   ]
  },
  {
   "cell_type": "markdown",
   "metadata": {},
   "source": [
    "### ___ END ___"
   ]
  }
 ],
 "metadata": {
  "kernelspec": {
   "display_name": "Python 3 (ipykernel)",
   "language": "python",
   "name": "python3"
  },
  "language_info": {
   "name": "python"
  }
 },
 "nbformat": 4,
 "nbformat_minor": 2
}
